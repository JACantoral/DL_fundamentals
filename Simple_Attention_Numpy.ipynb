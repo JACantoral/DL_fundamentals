{
 "cells": [
  {
   "cell_type": "markdown",
   "id": "78658837",
   "metadata": {},
   "source": [
    "### Transformers"
   ]
  },
  {
   "cell_type": "code",
   "execution_count": 1,
   "id": "12459a35",
   "metadata": {},
   "outputs": [],
   "source": [
    "import numpy as np\n",
    "import pandas as pd\n",
    "# np.random.seed(23)\n",
    "np.set_printoptions(precision=4, suppress = True)\n",
    "pd.options.display.float_format = '{:.4f}'.format\n"
   ]
  },
  {
   "cell_type": "markdown",
   "id": "c2680d19",
   "metadata": {},
   "source": [
    "#### Dimension "
   ]
  },
  {
   "cell_type": "code",
   "execution_count": 2,
   "id": "0c6460f8",
   "metadata": {},
   "outputs": [],
   "source": [
    "d_model = 4\n",
    "d_ff = 5\n",
    "d_k = 3\n",
    "d_v = 3"
   ]
  },
  {
   "cell_type": "markdown",
   "id": "a6bda57f",
   "metadata": {},
   "source": [
    "#### Word embeddings"
   ]
  },
  {
   "cell_type": "code",
   "execution_count": 12,
   "id": "81a979b6",
   "metadata": {},
   "outputs": [],
   "source": [
    "me_ = np.random.randn(d_model)\n",
    "gusta_ = np.random.randn(d_model)\n",
    "estudiar_ = np.random.rand(d_model)\n",
    "inteligencia_ = np.random.rand(d_model)\n",
    "artificial_ = np.random.rand(d_model)"
   ]
  },
  {
   "cell_type": "code",
   "execution_count": 13,
   "id": "7218c628",
   "metadata": {},
   "outputs": [
    {
     "name": "stdout",
     "output_type": "stream",
     "text": [
      "[ 0.4417  1.1289 -1.8381 -0.9388]\n"
     ]
    }
   ],
   "source": [
    "print(me_)"
   ]
  },
  {
   "cell_type": "code",
   "execution_count": 14,
   "id": "3604c8d3",
   "metadata": {},
   "outputs": [
    {
     "name": "stdout",
     "output_type": "stream",
     "text": [
      "[-0.2018  1.0454  0.5382  0.8121]\n"
     ]
    }
   ],
   "source": [
    "print(gusta_)"
   ]
  },
  {
   "cell_type": "markdown",
   "id": "7885795c",
   "metadata": {},
   "source": [
    "#### Positional embeddings"
   ]
  },
  {
   "cell_type": "code",
   "execution_count": 15,
   "id": "4b70485d",
   "metadata": {},
   "outputs": [],
   "source": [
    "pos_1 = np.array([0.3, -0.9, -0.6, 0.8])\n",
    "pos_2 = np.array([-.6, 0.8, -0.9, 0.15])\n",
    "pos_3 = np.array([0.8, -0.5, -0.9, 0.5])\n",
    "pos_4 = np.array([-0.95, 0.2, -0.4, -0.9])\n",
    "pos_5 = np.array([0.95, 0.16, 0.2, -0.95])"
   ]
  },
  {
   "cell_type": "code",
   "execution_count": 16,
   "id": "2fd02561",
   "metadata": {},
   "outputs": [],
   "source": [
    "me_embed_pos = me_ + pos_1\n",
    "gusta_embed_pos = gusta_ + pos_2\n",
    "estudiar_embed_pos = estudiar_ + pos_3\n",
    "inteligencia_embed_pos = inteligencia_ + pos_4\n",
    "artificial_embed_pos = artificial_ + pos_5"
   ]
  },
  {
   "cell_type": "code",
   "execution_count": 17,
   "id": "0f783824",
   "metadata": {},
   "outputs": [
    {
     "name": "stdout",
     "output_type": "stream",
     "text": [
      "[ 0.7417  0.2289 -2.4381 -0.1388]\n"
     ]
    }
   ],
   "source": [
    "print(me_embed_pos)"
   ]
  },
  {
   "cell_type": "code",
   "execution_count": 18,
   "id": "cfa60ff6",
   "metadata": {},
   "outputs": [
    {
     "name": "stdout",
     "output_type": "stream",
     "text": [
      "[-0.8018  1.8454 -0.3618  0.9621]\n"
     ]
    }
   ],
   "source": [
    "print(gusta_embed_pos)"
   ]
  },
  {
   "cell_type": "markdown",
   "id": "3f7bf227",
   "metadata": {},
   "source": [
    "#### Projection matrices (or FC network)"
   ]
  },
  {
   "cell_type": "code",
   "execution_count": 19,
   "id": "8ddfbfcc",
   "metadata": {},
   "outputs": [],
   "source": [
    "W_q = np.random.randn(d_model, d_k) * 0.1\n",
    "W_k = np.random.randn(d_model, d_k) * 0.1\n",
    "W_v = np.random.randn(d_model, d_v) * 0.1"
   ]
  },
  {
   "cell_type": "code",
   "execution_count": 20,
   "id": "e34d7353",
   "metadata": {},
   "outputs": [],
   "source": [
    "me_query = me_embed_pos @ W_q\n",
    "me_key = me_embed_pos @ W_k\n",
    "me_value = me_embed_pos @ W_v\n",
    "\n",
    "gusta_query = gusta_embed_pos @ W_q\n",
    "gusta_key = gusta_embed_pos @ W_k\n",
    "gusta_value = gusta_embed_pos @ W_v\n",
    "\n",
    "estudiar_query = estudiar_embed_pos @ W_q\n",
    "estudiar_key = estudiar_embed_pos @ W_k\n",
    "estudiar_value = estudiar_embed_pos @ W_v\n",
    "\n",
    "inteligencia_query = inteligencia_embed_pos @ W_q\n",
    "inteligencia_key = inteligencia_embed_pos @ W_k\n",
    "inteligencia_value = inteligencia_embed_pos @ W_v\n",
    "\n",
    "artificial_query = artificial_embed_pos @ W_q\n",
    "artificial_key = artificial_embed_pos @ W_k\n",
    "artificial_value = artificial_embed_pos @ W_v"
   ]
  },
  {
   "cell_type": "markdown",
   "id": "da5c1bdf",
   "metadata": {},
   "source": [
    "#### Similarities"
   ]
  },
  {
   "cell_type": "code",
   "execution_count": 21,
   "id": "29fd33ec",
   "metadata": {
    "code_folding": [
     0
    ]
   },
   "outputs": [],
   "source": [
    "def softmax(x):\n",
    "  x -= np.max(x, axis=1, keepdims=True)\n",
    "  return np.exp(x)/np.exp(x).sum(axis=1, keepdims=True)"
   ]
  },
  {
   "cell_type": "code",
   "execution_count": 22,
   "id": "c0808eda",
   "metadata": {},
   "outputs": [],
   "source": [
    "me_alpha_me = me_query @ me_key.T\n",
    "me_alpha_gusta = me_query @ gusta_key.T\n",
    "me_alpha_estudiar = me_query @ estudiar_key.T\n",
    "me_alpha_inteligencia = me_query @ inteligencia_key.T\n",
    "me_alpha_artificial = me_query @ artificial_key.T\n",
    "me_alphas = softmax(([[me_alpha_me, me_alpha_gusta, \n",
    "                     me_alpha_estudiar, me_alpha_inteligencia,\n",
    "                    me_alpha_artificial]]))\n"
   ]
  },
  {
   "cell_type": "code",
   "execution_count": 23,
   "id": "2aaca630",
   "metadata": {},
   "outputs": [
    {
     "data": {
      "text/plain": [
       "-0.002689607928836218"
      ]
     },
     "execution_count": 23,
     "metadata": {},
     "output_type": "execute_result"
    }
   ],
   "source": [
    "me_alpha_me"
   ]
  },
  {
   "cell_type": "code",
   "execution_count": 24,
   "id": "e2af938c",
   "metadata": {},
   "outputs": [
    {
     "name": "stdout",
     "output_type": "stream",
     "text": [
      "[[0.2003 0.1993 0.199  0.2012 0.2002]]\n"
     ]
    }
   ],
   "source": [
    "print(me_alphas)"
   ]
  },
  {
   "cell_type": "code",
   "execution_count": 25,
   "id": "fbf978a8",
   "metadata": {},
   "outputs": [],
   "source": [
    "me_attention = np.array([me_alphas[:,0]*me_value +\n",
    "                         me_alphas[:, 1]*gusta_value +\n",
    "                         me_alphas[:, 2]*estudiar_value +\n",
    "                         me_alphas[:,3]*inteligencia_value +\n",
    "                         me_alphas[:, 4]*artificial_value])"
   ]
  },
  {
   "cell_type": "code",
   "execution_count": 26,
   "id": "652b9227",
   "metadata": {},
   "outputs": [
    {
     "data": {
      "text/plain": [
       "(1, 3)"
      ]
     },
     "execution_count": 26,
     "metadata": {},
     "output_type": "execute_result"
    }
   ],
   "source": [
    "me_attention.shape"
   ]
  },
  {
   "cell_type": "code",
   "execution_count": 27,
   "id": "9cfea55f",
   "metadata": {},
   "outputs": [
    {
     "name": "stdout",
     "output_type": "stream",
     "text": [
      "[[ 0.1467  0.0717 -0.0538]]\n"
     ]
    }
   ],
   "source": [
    "print(me_attention)"
   ]
  },
  {
   "cell_type": "code",
   "execution_count": 21,
   "id": "3f4c23ca",
   "metadata": {},
   "outputs": [],
   "source": [
    "gusta_alpha_me = gusta_query @ me_key.T\n",
    "gusta_alpha_gusta = gusta_query @ gusta_key.T\n",
    "gusta_alpha_estudiar = gusta_query @ estudiar_key.T\n",
    "gusta_alpha_inteligencia = gusta_query @ inteligencia_key.T\n",
    "gusta_alpha_artificial = gusta_query @ artificial_key.T\n",
    "gusta_alphas = softmax(([[gusta_alpha_me, gusta_alpha_gusta,\n",
    "                     gusta_alpha_estudiar, gusta_alpha_inteligencia,\n",
    "                       gusta_alpha_artificial]]))"
   ]
  },
  {
   "cell_type": "code",
   "execution_count": 22,
   "id": "7a1284b8",
   "metadata": {},
   "outputs": [
    {
     "name": "stdout",
     "output_type": "stream",
     "text": [
      "[[0.1967 0.1976 0.1937 0.2065 0.2055]]\n"
     ]
    }
   ],
   "source": [
    "print(gusta_alphas)"
   ]
  },
  {
   "cell_type": "code",
   "execution_count": 23,
   "id": "673292d5",
   "metadata": {},
   "outputs": [],
   "source": [
    "gusta_attention = np.array([gusta_alphas[...,0]*me_value +\n",
    "                         gusta_alphas[...,1]*gusta_value +\n",
    "                         gusta_alphas[..., 2]*estudiar_value +\n",
    "                         gusta_alphas[...,3]*inteligencia_value +\n",
    "                          gusta_alphas[...,4]*artificial_value])"
   ]
  },
  {
   "cell_type": "code",
   "execution_count": 24,
   "id": "529391c4",
   "metadata": {},
   "outputs": [
    {
     "name": "stdout",
     "output_type": "stream",
     "text": [
      "[[-0.0767  0.0809  0.0647]]\n"
     ]
    }
   ],
   "source": [
    "print(gusta_attention)"
   ]
  },
  {
   "cell_type": "markdown",
   "id": "c8dc406a",
   "metadata": {},
   "source": [
    "### Matrices"
   ]
  },
  {
   "cell_type": "code",
   "execution_count": 25,
   "id": "d01810f4",
   "metadata": {},
   "outputs": [
    {
     "name": "stdout",
     "output_type": "stream",
     "text": [
      "(5, 4)\n"
     ]
    }
   ],
   "source": [
    "X = np.array([[me_embed_pos],\n",
    "              [gusta_embed_pos],\n",
    "              [estudiar_embed_pos],\n",
    "              [inteligencia_embed_pos],\n",
    "              [artificial_embed_pos]]).reshape(-1, d_model)\n",
    "print(X.shape)"
   ]
  },
  {
   "cell_type": "code",
   "execution_count": 29,
   "id": "e29d2ed3",
   "metadata": {},
   "outputs": [
    {
     "name": "stdout",
     "output_type": "stream",
     "text": [
      "[ 0.967  -0.8742 -1.3776  1.7486]\n",
      "[ 0.1017 -0.2511 -1.2675 -0.9875]\n",
      "[ 1.4181 -0.0881 -0.8975  1.384 ]\n"
     ]
    }
   ],
   "source": [
    "print(me_embed_pos)\n",
    "print(gusta_embed_pos)\n",
    "print(estudiar_embed_pos)"
   ]
  },
  {
   "cell_type": "code",
   "execution_count": 26,
   "id": "84358c91",
   "metadata": {},
   "outputs": [
    {
     "name": "stdout",
     "output_type": "stream",
     "text": [
      "[[ 0.967  -0.8742 -1.3776  1.7486]\n",
      " [ 0.1017 -0.2511 -1.2675 -0.9875]\n",
      " [ 1.4181 -0.0881 -0.8975  1.384 ]\n",
      " [-0.0651  0.5004  0.1896  0.0784]\n",
      " [ 1.7951  0.2251  0.4947 -0.6621]]\n"
     ]
    }
   ],
   "source": [
    "print(X)"
   ]
  },
  {
   "cell_type": "code",
   "execution_count": 30,
   "id": "b035a4e9",
   "metadata": {},
   "outputs": [],
   "source": [
    "Q = X @ W_q\n",
    "K = X @ W_k\n",
    "V = X @ W_v"
   ]
  },
  {
   "cell_type": "code",
   "execution_count": 31,
   "id": "b0e19195",
   "metadata": {},
   "outputs": [
    {
     "name": "stdout",
     "output_type": "stream",
     "text": [
      "[-0.1159 -0.0089 -0.0807]\n",
      "[ 0.0539 -0.0729 -0.2006]\n",
      "[-0.1092  0.0701 -0.1161]\n",
      "[-0.0471 -0.0031  0.0788]\n",
      "[ 0.1479  0.2473 -0.3784]\n"
     ]
    }
   ],
   "source": [
    "print(me_query)\n",
    "print(gusta_query)\n",
    "print(estudiar_query)\n",
    "print(inteligencia_query)\n",
    "print(artificial_query)"
   ]
  },
  {
   "cell_type": "code",
   "execution_count": 32,
   "id": "e2443089",
   "metadata": {},
   "outputs": [
    {
     "name": "stdout",
     "output_type": "stream",
     "text": [
      "[[-0.1159 -0.0089 -0.0807]\n",
      " [ 0.0539 -0.0729 -0.2006]\n",
      " [-0.1092  0.0701 -0.1161]\n",
      " [-0.0471 -0.0031  0.0788]\n",
      " [ 0.1479  0.2473 -0.3784]]\n"
     ]
    }
   ],
   "source": [
    "print(Q)"
   ]
  },
  {
   "cell_type": "code",
   "execution_count": null,
   "id": "79de393f",
   "metadata": {},
   "outputs": [],
   "source": [
    "Q.shape"
   ]
  },
  {
   "cell_type": "code",
   "execution_count": 33,
   "id": "d0d04c7e",
   "metadata": {},
   "outputs": [
    {
     "name": "stdout",
     "output_type": "stream",
     "text": [
      "[0.0779 0.0176 0.3061]\n",
      "[ 0.0452 -0.0045  0.2849]\n",
      "[ 0.0901 -0.035   0.4052]\n",
      "[0.0125 0.0363 0.0416]\n",
      "[ 0.0046 -0.2769  0.1759]\n"
     ]
    }
   ],
   "source": [
    "print(me_key)\n",
    "print(gusta_key)\n",
    "print(estudiar_key)\n",
    "print(inteligencia_key)\n",
    "print(artificial_key)"
   ]
  },
  {
   "cell_type": "code",
   "execution_count": 34,
   "id": "f8935fcc",
   "metadata": {},
   "outputs": [
    {
     "name": "stdout",
     "output_type": "stream",
     "text": [
      "[[ 0.0779  0.0176  0.3061]\n",
      " [ 0.0452 -0.0045  0.2849]\n",
      " [ 0.0901 -0.035   0.4052]\n",
      " [ 0.0125  0.0363  0.0416]\n",
      " [ 0.0046 -0.2769  0.1759]]\n"
     ]
    }
   ],
   "source": [
    "print(K)"
   ]
  },
  {
   "cell_type": "code",
   "execution_count": 35,
   "id": "a3405de0",
   "metadata": {},
   "outputs": [],
   "source": [
    "alphas=softmax(Q@K.T)"
   ]
  },
  {
   "cell_type": "code",
   "execution_count": 36,
   "id": "df9908f9",
   "metadata": {},
   "outputs": [
    {
     "name": "stdout",
     "output_type": "stream",
     "text": [
      "[[0.1981 0.1992 0.1963 0.2039 0.2024]\n",
      " [0.1967 0.1976 0.1937 0.2065 0.2055]\n",
      " [0.1988 0.1997 0.1955 0.2067 0.1993]\n",
      " [0.2006 0.2006 0.2021 0.1971 0.1995]\n",
      " [0.1994 0.1989 0.1899 0.2192 0.1926]]\n"
     ]
    }
   ],
   "source": [
    "print(alphas)"
   ]
  },
  {
   "cell_type": "code",
   "execution_count": 37,
   "id": "30e876bd",
   "metadata": {},
   "outputs": [
    {
     "name": "stdout",
     "output_type": "stream",
     "text": [
      "[[0.1981 0.1992 0.1963 0.2039 0.2024]]\n"
     ]
    }
   ],
   "source": [
    "print(me_alphas)"
   ]
  },
  {
   "cell_type": "code",
   "execution_count": 38,
   "id": "9c0031eb",
   "metadata": {},
   "outputs": [
    {
     "name": "stdout",
     "output_type": "stream",
     "text": [
      "[[0.1967 0.1976 0.1937 0.2065 0.2055]]\n"
     ]
    }
   ],
   "source": [
    "print(gusta_alphas)"
   ]
  },
  {
   "cell_type": "code",
   "execution_count": 42,
   "id": "bff3bbf1",
   "metadata": {},
   "outputs": [
    {
     "name": "stdout",
     "output_type": "stream",
     "text": [
      "[[-0.078   0.0809  0.0652]]\n"
     ]
    }
   ],
   "source": [
    "print(me_attention)"
   ]
  },
  {
   "cell_type": "code",
   "execution_count": 41,
   "id": "2cc445b4",
   "metadata": {},
   "outputs": [
    {
     "name": "stdout",
     "output_type": "stream",
     "text": [
      "[[-0.0767  0.0809  0.0647]]\n"
     ]
    }
   ],
   "source": [
    "print(gusta_attention)"
   ]
  },
  {
   "cell_type": "code",
   "execution_count": 39,
   "id": "b8fcec48",
   "metadata": {},
   "outputs": [],
   "source": [
    "attn_scores = alphas @ V"
   ]
  },
  {
   "cell_type": "code",
   "execution_count": 40,
   "id": "5a363894",
   "metadata": {},
   "outputs": [
    {
     "name": "stdout",
     "output_type": "stream",
     "text": [
      "[[-0.078   0.0809  0.0652]\n",
      " [-0.0767  0.0809  0.0647]\n",
      " [-0.0783  0.0803  0.0651]\n",
      " [-0.0804  0.0815  0.0663]\n",
      " [-0.0777  0.0784  0.064 ]]\n"
     ]
    }
   ],
   "source": [
    "print(attn_scores)"
   ]
  },
  {
   "cell_type": "code",
   "execution_count": null,
   "id": "85b878ca",
   "metadata": {},
   "outputs": [],
   "source": []
  },
  {
   "cell_type": "code",
   "execution_count": null,
   "id": "9ba808b4",
   "metadata": {},
   "outputs": [],
   "source": []
  }
 ],
 "metadata": {
  "kernelspec": {
   "display_name": "Python 3 (ipykernel)",
   "language": "python",
   "name": "python3"
  },
  "language_info": {
   "codemirror_mode": {
    "name": "ipython",
    "version": 3
   },
   "file_extension": ".py",
   "mimetype": "text/x-python",
   "name": "python",
   "nbconvert_exporter": "python",
   "pygments_lexer": "ipython3",
   "version": "3.9.0"
  },
  "varInspector": {
   "cols": {
    "lenName": 16,
    "lenType": 16,
    "lenVar": 40
   },
   "kernels_config": {
    "python": {
     "delete_cmd_postfix": "",
     "delete_cmd_prefix": "del ",
     "library": "var_list.py",
     "varRefreshCmd": "print(var_dic_list())"
    },
    "r": {
     "delete_cmd_postfix": ") ",
     "delete_cmd_prefix": "rm(",
     "library": "var_list.r",
     "varRefreshCmd": "cat(var_dic_list()) "
    }
   },
   "types_to_exclude": [
    "module",
    "function",
    "builtin_function_or_method",
    "instance",
    "_Feature"
   ],
   "window_display": false
  }
 },
 "nbformat": 4,
 "nbformat_minor": 5
}
