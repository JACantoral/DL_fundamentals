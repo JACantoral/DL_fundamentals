{
 "cells": [
  {
   "cell_type": "markdown",
   "id": "6654892b",
   "metadata": {},
   "source": [
    "## One cycle CIFAR10\n"
   ]
  },
  {
   "cell_type": "code",
   "execution_count": 1,
   "id": "33fbfb78",
   "metadata": {},
   "outputs": [],
   "source": [
    "import numpy as np\n",
    "import matplotlib.pyplot as plt\n",
    "\n",
    "#PyTorch stuff\n",
    "import torch\n",
    "torch.manual_seed(0)\n",
    "from torch import optim, nn\n",
    "from torch.nn import functional as F\n",
    "from torchvision import transforms as T\n",
    "from torchvision import models, datasets\n",
    "from torch.utils.data import DataLoader, Dataset, random_split\n",
    "\n",
    "#for jupyter themes users\n",
    "from jupyterthemes import jtplot\n",
    "jtplot.style()"
   ]
  },
  {
   "cell_type": "markdown",
   "id": "1f292599",
   "metadata": {},
   "source": [
    "### GPU"
   ]
  },
  {
   "cell_type": "code",
   "execution_count": 2,
   "id": "09d37c40",
   "metadata": {},
   "outputs": [
    {
     "name": "stdout",
     "output_type": "stream",
     "text": [
      "cuda\n"
     ]
    }
   ],
   "source": [
    "device = torch.device('cuda' if torch.cuda.is_available() else 'cpu')\n",
    "print(device)"
   ]
  },
  {
   "cell_type": "markdown",
   "id": "56afe54e",
   "metadata": {},
   "source": [
    "###  Datasets y Dataloaders"
   ]
  },
  {
   "cell_type": "code",
   "execution_count": 3,
   "id": "75926fc9",
   "metadata": {},
   "outputs": [
    {
     "name": "stdout",
     "output_type": "stream",
     "text": [
      "Files already downloaded and verified\n",
      "Files already downloaded and verified\n"
     ]
    }
   ],
   "source": [
    "PATH = '/media/pepe/DataUbuntu/Databases/cifar-10'\n",
    "TRAIN_SIZE = 50000\n",
    "VAL_SIZE = 5000\n",
    "TEST_SIZE = 5000\n",
    "MINIBATCH_SIZE = 512\n",
    "\n",
    "transform_cifar10_train = T.Compose([\n",
    "                T.RandomHorizontalFlip(p=0.3),\n",
    "                T.ColorJitter(brightness=0.1, contrast=0.1, hue = 0.05),\n",
    "                T.RandomApply([T.RandomRotation(10), T.Resize(40), T.CenterCrop(32)], p = 0.1),\n",
    "                T.ToTensor(),\n",
    "                T.Normalize([0.491, 0.482, 0.447], [0.247, 0.243, 0.262])\n",
    "            ])\n",
    "transform_cifar10_test = T.Compose([\n",
    "                T.ToTensor(),\n",
    "                T.Normalize([0.491, 0.482, 0.447], [0.247, 0.243, 0.262])\n",
    "            ])\n",
    "\n",
    "# Training set loader\n",
    "cifar10_train = datasets.CIFAR10(PATH, train=True, download=True,transform=transform_cifar10_train)\n",
    "train_loader = DataLoader(cifar10_train, batch_size=MINIBATCH_SIZE, shuffle = True)\n",
    "\n",
    "# Validation and test sets\n",
    "test_dataset = datasets.CIFAR10(PATH, train=False, download=True, transform=transform_cifar10_test)\n",
    "val_dataset, test_dataset = random_split(test_dataset, [VAL_SIZE, TEST_SIZE])\n",
    "\n",
    "val_loader = DataLoader(val_dataset, batch_size=MINIBATCH_SIZE, shuffle = True)\n",
    "\n",
    "test_loader = DataLoader(test_dataset, batch_size=MINIBATCH_SIZE, shuffle = True)"
   ]
  },
  {
   "cell_type": "code",
   "execution_count": null,
   "id": "d0157a4d",
   "metadata": {},
   "outputs": [],
   "source": [
    "for i,(x, y) in enumerate(test_loader):\n",
    "    print(i, x.shape, y.shape)"
   ]
  },
  {
   "cell_type": "markdown",
   "id": "a4366f6f",
   "metadata": {},
   "source": [
    "### Mostrar datos"
   ]
  },
  {
   "cell_type": "code",
   "execution_count": null,
   "id": "d6f4f049",
   "metadata": {
    "code_folding": [
     1
    ]
   },
   "outputs": [],
   "source": [
    "classes = train_loader.dataset.classes\n",
    "def plot_figure(image):\n",
    "    plt.figure(figsize=(3,3))\n",
    "    plt.imshow(np.transpose(image,(1,2,0)))\n",
    "    plt.axis('off')\n",
    "    plt.show()\n",
    "\n",
    "rnd_sample_idx = np.random.randint(len(test_loader))\n",
    "print(f'La imagen muestreada representa un: {classes[test_loader.dataset[rnd_sample_idx][1]]}')\n",
    "image = test_loader.dataset[rnd_sample_idx][0]\n",
    "image = (image - image.min()) / (image.max() -image.min() )\n",
    "plot_figure(image)"
   ]
  },
  {
   "cell_type": "code",
   "execution_count": null,
   "id": "9eb2659d",
   "metadata": {
    "code_folding": [
     0
    ]
   },
   "outputs": [],
   "source": [
    "def plot_cifar10_grid():\n",
    "    classes = train_loader.dataset.classes\n",
    "    total_samples = 8\n",
    "    plt.figure(figsize=(15,15))\n",
    "    for label, sample in enumerate(classes):\n",
    "        class_idxs = np.flatnonzero(label == np.array(train_loader.dataset.targets))\n",
    "        sample_idxs = np.random.choice(class_idxs, total_samples, replace = False)\n",
    "        for i, idx in enumerate(sample_idxs):\n",
    "            plt_idx = i*len(classes) + label + 1\n",
    "            plt.subplot(total_samples, len(classes), plt_idx)\n",
    "            plt.imshow(train_loader.dataset.data[idx])\n",
    "            plt.axis('off')\n",
    "            \n",
    "            if i == 0: plt.title(sample)\n",
    "    plt.show()\n",
    "\n",
    "plot_cifar10_grid() \n"
   ]
  },
  {
   "cell_type": "markdown",
   "id": "80cd0dfe",
   "metadata": {},
   "source": [
    "#### Accuracy"
   ]
  },
  {
   "cell_type": "code",
   "execution_count": null,
   "id": "23f561c1",
   "metadata": {},
   "outputs": [],
   "source": [
    "len(val_loader)"
   ]
  },
  {
   "cell_type": "code",
   "execution_count": 4,
   "id": "6d5cb412",
   "metadata": {
    "code_folding": []
   },
   "outputs": [],
   "source": [
    "def accuracy(model, loader):\n",
    "    '''\n",
    "    model - PyTorch model\n",
    "    loader - PyTorch dataloader\n",
    "    \n",
    "    Returns:\n",
    "    \n",
    "    '''\n",
    "    correct = 0\n",
    "    total = 0\n",
    "    cost = 0\n",
    "    model.eval()\n",
    "    model = model.to(device=device)\n",
    "    with torch.no_grad():\n",
    "        for x, y in loader:\n",
    "            x = x.to(device=device, dtype=torch.float32)\n",
    "            y = y.to(device=device, dtype=torch.long)\n",
    "            scores = model(x)\n",
    "            cost += (F.cross_entropy(scores, y)).item()\n",
    "            _, pred = scores.max(dim=1)\n",
    "            correct += (pred == y).sum()\n",
    "            total += pred.size(0)\n",
    "        return cost/len(loader), float(correct)/total"
   ]
  },
  {
   "cell_type": "markdown",
   "id": "548852ce",
   "metadata": {},
   "source": [
    "#### Buscar learning rate"
   ]
  },
  {
   "cell_type": "code",
   "execution_count": 5,
   "id": "9bea942c",
   "metadata": {
    "code_folding": [
     0
    ]
   },
   "outputs": [],
   "source": [
    "def find_lr(model, optimiser, start_val = 1e-6, end_val = 1, beta = 0.99, loader = train_loader):\n",
    "    n = len(loader) - 1\n",
    "    factor = (end_val / start_val)**(1/n)\n",
    "    lr = start_val\n",
    "    optimiser.param_groups[0]['lr'] = lr #this allows you to update the learning rate\n",
    "    avg_loss, loss, acc = 0., 0., 0.\n",
    "    lowest_loss = 0.\n",
    "    batch_num = 0\n",
    "    losses = []\n",
    "    log_lrs = []\n",
    "    accuracies = []\n",
    "    model = model.to(device=device)\n",
    "    for i, (x, y) in enumerate(loader, start=1):\n",
    "        x = x.to(device = device, dtype = torch.float32)\n",
    "        y = y.to(device = device, dtype = torch.long)\n",
    "        optimiser.zero_grad()\n",
    "        scores = model(x)\n",
    "        cost = F.cross_entropy(input=scores, target=y)\n",
    "        loss = beta*loss + (1-beta)*cost.item()\n",
    "        #bias correction\n",
    "        avg_loss = loss/(1 - beta**i)\n",
    "        \n",
    "        acc_ = ((torch.argmax(scores, dim=1) == y).sum()/scores.size(0)) \n",
    "#         acc = beta*acc + (1-beta)*acc_.item()\n",
    "#         avg_acc = acc/(1 - beta**i)\n",
    "        #if loss is massive stop\n",
    "        if i > 1 and avg_loss > 4 * lowest_loss:\n",
    "            print(f'from here{i, cost.item()}')\n",
    "            return log_lrs, losses, accuracies\n",
    "        if avg_loss < lowest_loss or i == 1:\n",
    "            lowest_loss = avg_loss\n",
    "        \n",
    "#         accuracies.append(acc.item())\n",
    "        accuracies.append(acc_.item())\n",
    "#         accuracies.append(avg_acc)\n",
    "        losses.append(avg_loss)\n",
    "        log_lrs.append(lr)\n",
    "        #step\n",
    "        cost.backward()\n",
    "        optimiser.step()\n",
    "        #update lr\n",
    "        print(f'cost:{cost.item():.4f}, lr: {lr:.4f}, acc: {acc_.item():.4f}')\n",
    "        lr *= factor\n",
    "        optimiser.param_groups[0]['lr'] = lr\n",
    "        \n",
    "    return log_lrs, losses, accuracies     "
   ]
  },
  {
   "cell_type": "markdown",
   "id": "889aea8e",
   "metadata": {},
   "source": [
    "### Loop de Entrenamiento"
   ]
  },
  {
   "cell_type": "code",
   "execution_count": 6,
   "id": "c0837f4b",
   "metadata": {
    "code_folding": [
     0
    ]
   },
   "outputs": [],
   "source": [
    "def train(model, optimiser, scheduler = None, epochs = 100):\n",
    "    model = model.to(device = device)\n",
    "    val_loss_history = []\n",
    "    train_loss_history = []\n",
    "    val_acc_history = []\n",
    "    train_acc_history = []\n",
    "    lrs = []\n",
    "    train_cost = 0.\n",
    "    val_cost = 0.\n",
    "    train_cost_acum = 0\n",
    "    for epoch in range(epochs):\n",
    "        train_correct_num  = 0\n",
    "        train_total = 0\n",
    "        train_cost_acum = 0\n",
    "        for mb, (x, y) in enumerate(train_loader, start=1):\n",
    "            model.train()\n",
    "            x = x.to(device=device, dtype=torch.float32)\n",
    "            y = y.to(device=device, dtype=torch.long)\n",
    "            scores = model(x)\n",
    "            cost = F.cross_entropy(input=scores, target=y)\n",
    "            optimiser.zero_grad()\n",
    "            cost.backward()\n",
    "            optimiser.step()\n",
    "            #if using scheduler\n",
    "            if scheduler: scheduler.step()\n",
    "                \n",
    "            train_correct_num += (torch.argmax(scores, dim=1) == y).sum()\n",
    "            train_total += scores.size(0)        \n",
    "            train_cost_acum += cost.item()\n",
    "            train_acc = float(train_correct_num)/train_total  \n",
    "#             train_cost = train_cost_acum/mb\n",
    "            val_cost, val_acc = accuracy(model, val_loader)\n",
    "\n",
    "            val_loss_history.append(val_cost)\n",
    "            train_loss_history.append(cost.item())\n",
    "            val_acc_history.append(val_acc)\n",
    "            train_acc_history.append(train_acc)\n",
    "#             lrs.append(scheduler.get_last_lr()[0])\n",
    "            lrs.append(optimiser.param_groups[0][\"lr\"])\n",
    "        \n",
    "        #f'last lr: {scheduler.get_last_lr()[0]:6f},\n",
    "        \n",
    "        train_acc = float(train_correct_num)/train_total\n",
    "        train_cost = train_cost_acum/len(train_loader)\n",
    "        print(f'Epoch:{epoch}, train cost: {train_cost:.6f}, val cost: {val_cost:.6f},'\n",
    "                      f' train acc: {train_acc:.4f}, val acc: {val_acc:4f}, total: {train_total},'\n",
    "                      f' lr: {optimiser.param_groups[0][\"lr\"]:.6f}')\n",
    "        \n",
    "    return train_loss_history, val_loss_history, train_acc_history, val_acc_history, lrs"
   ]
  },
  {
   "cell_type": "code",
   "execution_count": null,
   "id": "94558ef0",
   "metadata": {},
   "outputs": [],
   "source": []
  },
  {
   "cell_type": "markdown",
   "id": "81e44a27",
   "metadata": {},
   "source": [
    "### ResNet56"
   ]
  },
  {
   "cell_type": "code",
   "execution_count": 7,
   "id": "e6fbfcc9",
   "metadata": {},
   "outputs": [],
   "source": [
    "conv_k_3 = lambda channel1, channel2, stride: nn.Conv2d(channel1, channel2, stride = stride, kernel_size=3, padding=1)"
   ]
  },
  {
   "cell_type": "code",
   "execution_count": 8,
   "id": "d4e83428",
   "metadata": {
    "code_folding": []
   },
   "outputs": [],
   "source": [
    "class residual_block(nn.Module):\n",
    "    '''\n",
    "\n",
    "    '''\n",
    "    def __init__(self, in_channel, out_channel, stride=1, change_size = True):\n",
    "        super().__init__()\n",
    "        self.conv1 = conv_k_3(in_channel, out_channel, stride)\n",
    "        self.bn1 = nn.BatchNorm2d(out_channel)\n",
    "        self.conv2 = conv_k_3(out_channel, out_channel, 1)\n",
    "        self.bn2 = nn.BatchNorm2d(out_channel)\n",
    "        #for changing activation map sizes\n",
    "        self.change_size = change_size\n",
    "        if change_size:\n",
    "            self.residual = nn.Sequential(nn.Conv2d(in_channel, \n",
    "                                                    out_channel, \n",
    "                                                    kernel_size=1,\n",
    "                                                    stride=stride),\n",
    "                                         nn.BatchNorm2d(out_channel)\n",
    "                                         )      \n",
    "    def forward(self, x):\n",
    "        identity = x if not self.change_size else self.residual(x)\n",
    "        y = F.relu(self.bn1(self.conv1(x)))\n",
    "        y = self.bn2(self.conv2(y))\n",
    "        y += identity\n",
    "        return F.relu(y)\n"
   ]
  },
  {
   "cell_type": "code",
   "execution_count": 9,
   "id": "225ab769",
   "metadata": {
    "code_folding": []
   },
   "outputs": [],
   "source": [
    "class ResNet56(nn.Module):\n",
    "    def __init__(self, n=9, num_classes=10):\n",
    "        super().__init__()\n",
    "        self.conv1 = conv_k_3(3, 16, stride = 1)\n",
    "        self.bn1 = nn.BatchNorm2d(16)\n",
    "        self.block1 = self.create_block(n=9, in_channel=16, \n",
    "                                        out_channel=16, stride=1, \n",
    "                                        change_size=False)\n",
    "        self.block2 = self.create_block(n=9, in_channel=16, \n",
    "                                        out_channel=32, stride=2)\n",
    "        self.block3 = self.create_block(n=9, in_channel=32, \n",
    "                                        out_channel=64, stride=2)\n",
    "        self.fc = nn.Linear(64, num_classes)\n",
    "\n",
    "    def create_block(self, n, in_channel, out_channel, stride, change_size=True):\n",
    "        block = [residual_block(in_channel, out_channel, stride, change_size=change_size)]\n",
    "        for i in range(n-1):\n",
    "            block.append(residual_block(out_channel, out_channel, stride=1, change_size=False))\n",
    "        return nn.Sequential(*block)   \n",
    "        \n",
    "    def forward(self, x):\n",
    "        y = F.relu(self.bn1(self.conv1(x)))\n",
    "        y = self.block3(self.block2(self.block1(y)))\n",
    "        y = F.adaptive_avg_pool2d(y, 1)\n",
    "        return self.fc(y.view(y.size(0), -1))      \n",
    "       \n",
    "        "
   ]
  },
  {
   "cell_type": "code",
   "execution_count": 10,
   "id": "1dd5357f",
   "metadata": {},
   "outputs": [],
   "source": [
    "model_resnet56 = ResNet56()"
   ]
  },
  {
   "cell_type": "code",
   "execution_count": 11,
   "id": "3cc5111e",
   "metadata": {},
   "outputs": [],
   "source": [
    "# model_resnet56 = ResNet56()\n",
    "optimiser_resnet56 = torch.optim.SGD(model_resnet56.parameters(),\n",
    "                                     lr=0.1, momentum=0.95,\n",
    "                                     weight_decay=1e-4)"
   ]
  },
  {
   "cell_type": "code",
   "execution_count": 12,
   "id": "d1d1df30",
   "metadata": {
    "scrolled": true
   },
   "outputs": [
    {
     "name": "stdout",
     "output_type": "stream",
     "text": [
      "cost:2.5375, lr: 0.0000, acc: 0.1191\n",
      "cost:2.5560, lr: 0.0000, acc: 0.0820\n",
      "cost:2.4481, lr: 0.0000, acc: 0.1250\n",
      "cost:2.4918, lr: 0.0000, acc: 0.1152\n",
      "cost:2.4942, lr: 0.0000, acc: 0.1094\n",
      "cost:2.5189, lr: 0.0000, acc: 0.1289\n",
      "cost:2.4865, lr: 0.0000, acc: 0.1191\n",
      "cost:2.5720, lr: 0.0000, acc: 0.0977\n",
      "cost:2.5625, lr: 0.0000, acc: 0.0957\n",
      "cost:2.4924, lr: 0.0000, acc: 0.1211\n",
      "cost:2.4834, lr: 0.0000, acc: 0.1211\n",
      "cost:2.6002, lr: 0.0000, acc: 0.0762\n",
      "cost:2.5442, lr: 0.0000, acc: 0.1152\n",
      "cost:2.5380, lr: 0.0000, acc: 0.0977\n",
      "cost:2.5462, lr: 0.0000, acc: 0.1328\n",
      "cost:2.4595, lr: 0.0000, acc: 0.1348\n",
      "cost:2.4922, lr: 0.0000, acc: 0.1113\n",
      "cost:2.4709, lr: 0.0000, acc: 0.1211\n",
      "cost:2.5265, lr: 0.0000, acc: 0.0996\n",
      "cost:2.5026, lr: 0.0000, acc: 0.1094\n",
      "cost:2.4424, lr: 0.0000, acc: 0.1230\n",
      "cost:2.4701, lr: 0.0000, acc: 0.1133\n",
      "cost:2.4710, lr: 0.0000, acc: 0.1016\n",
      "cost:2.4488, lr: 0.0000, acc: 0.1055\n",
      "cost:2.4353, lr: 0.0001, acc: 0.1133\n",
      "cost:2.4031, lr: 0.0001, acc: 0.1309\n",
      "cost:2.4734, lr: 0.0001, acc: 0.1230\n",
      "cost:2.4628, lr: 0.0001, acc: 0.1055\n",
      "cost:2.4371, lr: 0.0001, acc: 0.1191\n",
      "cost:2.4061, lr: 0.0001, acc: 0.1055\n",
      "cost:2.4427, lr: 0.0001, acc: 0.1152\n",
      "cost:2.4073, lr: 0.0002, acc: 0.1250\n",
      "cost:2.4568, lr: 0.0002, acc: 0.1035\n",
      "cost:2.3958, lr: 0.0002, acc: 0.0977\n",
      "cost:2.3459, lr: 0.0003, acc: 0.1348\n",
      "cost:2.3630, lr: 0.0003, acc: 0.1172\n",
      "cost:2.3019, lr: 0.0004, acc: 0.1504\n",
      "cost:2.3256, lr: 0.0005, acc: 0.1152\n",
      "cost:2.3401, lr: 0.0006, acc: 0.1387\n",
      "cost:2.3158, lr: 0.0007, acc: 0.1348\n",
      "cost:2.3103, lr: 0.0008, acc: 0.1504\n",
      "cost:2.3227, lr: 0.0009, acc: 0.1211\n",
      "cost:2.3085, lr: 0.0011, acc: 0.1367\n",
      "cost:2.3820, lr: 0.0013, acc: 0.1211\n",
      "cost:2.3084, lr: 0.0015, acc: 0.1523\n",
      "cost:2.4206, lr: 0.0018, acc: 0.1348\n",
      "cost:2.4025, lr: 0.0021, acc: 0.1133\n",
      "cost:2.3371, lr: 0.0025, acc: 0.1289\n",
      "cost:2.4322, lr: 0.0029, acc: 0.1348\n",
      "cost:2.4775, lr: 0.0034, acc: 0.1270\n",
      "cost:2.6084, lr: 0.0041, acc: 0.0938\n",
      "cost:2.6266, lr: 0.0048, acc: 0.0742\n",
      "cost:2.4373, lr: 0.0057, acc: 0.0938\n",
      "cost:2.4411, lr: 0.0067, acc: 0.1016\n",
      "cost:2.3701, lr: 0.0079, acc: 0.1191\n",
      "cost:2.2941, lr: 0.0093, acc: 0.1602\n",
      "cost:2.2764, lr: 0.0110, acc: 0.1465\n",
      "cost:2.3815, lr: 0.0130, acc: 0.1211\n",
      "cost:2.2842, lr: 0.0153, acc: 0.1523\n",
      "cost:2.3213, lr: 0.0181, acc: 0.1387\n",
      "cost:2.3390, lr: 0.0214, acc: 0.1230\n",
      "cost:2.3537, lr: 0.0252, acc: 0.1562\n",
      "cost:2.3062, lr: 0.0298, acc: 0.1406\n",
      "cost:2.2495, lr: 0.0352, acc: 0.1445\n",
      "cost:2.1892, lr: 0.0415, acc: 0.1777\n",
      "cost:2.2250, lr: 0.0491, acc: 0.1641\n",
      "cost:2.2156, lr: 0.0579, acc: 0.1621\n",
      "cost:2.2290, lr: 0.0684, acc: 0.1641\n",
      "cost:2.2697, lr: 0.0808, acc: 0.1680\n",
      "cost:2.2388, lr: 0.0954, acc: 0.1562\n",
      "cost:2.0839, lr: 0.1126, acc: 0.2109\n",
      "cost:2.2486, lr: 0.1330, acc: 0.2109\n",
      "cost:2.2968, lr: 0.1570, acc: 0.1738\n",
      "cost:2.1227, lr: 0.1854, acc: 0.2227\n",
      "cost:2.1737, lr: 0.2189, acc: 0.2109\n",
      "cost:2.2415, lr: 0.2584, acc: 0.1895\n",
      "cost:2.2877, lr: 0.3052, acc: 0.1660\n",
      "cost:2.3237, lr: 0.3603, acc: 0.1699\n",
      "cost:2.1689, lr: 0.4255, acc: 0.2090\n",
      "cost:2.2926, lr: 0.5024, acc: 0.2012\n",
      "cost:2.1059, lr: 0.5932, acc: 0.1855\n",
      "cost:2.0721, lr: 0.7004, acc: 0.2227\n",
      "cost:2.1628, lr: 0.8270, acc: 0.2012\n",
      "cost:2.1869, lr: 0.9765, acc: 0.2559\n",
      "cost:2.1033, lr: 1.1531, acc: 0.2227\n",
      "cost:2.0086, lr: 1.3615, acc: 0.2285\n",
      "cost:2.3139, lr: 1.6076, acc: 0.1875\n",
      "cost:2.4551, lr: 1.8982, acc: 0.1562\n",
      "cost:2.4819, lr: 2.2414, acc: 0.1074\n",
      "cost:2.6543, lr: 2.6466, acc: 0.1152\n",
      "cost:2.3959, lr: 3.1250, acc: 0.1328\n",
      "cost:2.4579, lr: 3.6899, acc: 0.1484\n",
      "cost:2.3566, lr: 4.3569, acc: 0.1523\n",
      "cost:2.4399, lr: 5.1445, acc: 0.1602\n",
      "cost:2.7043, lr: 6.0744, acc: 0.0977\n",
      "cost:4.0971, lr: 7.1725, acc: 0.0879\n",
      "cost:3.4467, lr: 8.4691, acc: 0.0859\n",
      "cost:3.9497, lr: 10.0000, acc: 0.0774\n"
     ]
    }
   ],
   "source": [
    "lg_lr, losses, accuracies = find_lr(model_resnet56, optimiser_resnet56,\n",
    "                                    start_val=1e-6, end_val=10)"
   ]
  },
  {
   "cell_type": "code",
   "execution_count": 13,
   "id": "c551f469",
   "metadata": {},
   "outputs": [
    {
     "data": {
      "image/png": "[encoded data removed]",
      "text/plain": [
       "<Figure size 1440x720 with 1 Axes>"
      ]
     },
     "metadata": {},
     "output_type": "display_data"
    }
   ],
   "source": [
    "f1, ax1 = plt.subplots(figsize=(20,10))\n",
    "# ax1.plot(lr[60:-2], losses[60:-2])\n",
    "ax1.plot(lg_lr, losses)\n",
    "ax1.set_xscale('log')\n",
    "ax1.set_xticks([1e-1,2e-1, 1, 10])\n",
    "ax1.get_xaxis().get_major_formatter().labelOnlyBase = False\n",
    "plt.show()"
   ]
  },
  {
   "cell_type": "code",
   "execution_count": 14,
   "id": "a4b94cb1",
   "metadata": {},
   "outputs": [
    {
     "data": {
      "image/png": "[encoded data removed]",
      "text/plain": [
       "<Figure size 1440x720 with 1 Axes>"
      ]
     },
     "metadata": {},
     "output_type": "display_data"
    }
   ],
   "source": [
    "f1, ax1 = plt.subplots(figsize=(20,10))\n",
    "# ax1.plot(lr[60:-2], losses[60:-2])\n",
    "ax1.plot(lg_lr, accuracies)\n",
    "ax1.set_xscale('log')\n",
    "# ax1.set_xticks([1e-1, 2e-1,5e-1, 7e-1, 1, 10])\n",
    "ax1.get_xaxis().get_major_formatter().labelOnlyBase = False\n",
    "plt.show()"
   ]
  },
  {
   "cell_type": "code",
   "execution_count": 15,
   "id": "cc7886a7",
   "metadata": {},
   "outputs": [
    {
     "name": "stdout",
     "output_type": "stream",
     "text": [
      "Epoch:0, train cost: 1.831078, val cost: 1.710201, train acc: 0.3073, val acc: 0.374600, total: 50000, lr: 0.020960\n",
      "Epoch:1, train cost: 1.374671, val cost: 1.291773, train acc: 0.4928, val acc: 0.525000, total: 50000, lr: 0.023820\n",
      "Epoch:2, train cost: 1.116365, val cost: 1.471257, train acc: 0.5989, val acc: 0.537800, total: 50000, lr: 0.028518\n",
      "Epoch:3, train cost: 0.901975, val cost: 1.023371, train acc: 0.6829, val acc: 0.648400, total: 50000, lr: 0.034954\n",
      "Epoch:4, train cost: 0.806588, val cost: 0.949432, train acc: 0.7161, val acc: 0.689200, total: 50000, lr: 0.042991\n",
      "Epoch:5, train cost: 0.712755, val cost: 1.086552, train acc: 0.7535, val acc: 0.660600, total: 50000, lr: 0.052458\n",
      "Epoch:6, train cost: 0.650498, val cost: 1.084996, train acc: 0.7736, val acc: 0.637800, total: 50000, lr: 0.063153\n",
      "Epoch:7, train cost: 0.587057, val cost: 0.802697, train acc: 0.7961, val acc: 0.727400, total: 50000, lr: 0.074847\n",
      "Epoch:8, train cost: 0.558392, val cost: 0.735943, train acc: 0.8043, val acc: 0.755600, total: 50000, lr: 0.087290\n",
      "Epoch:9, train cost: 0.526368, val cost: 0.618174, train acc: 0.8183, val acc: 0.792400, total: 50000, lr: 0.100219\n",
      "Epoch:10, train cost: 0.480768, val cost: 0.687027, train acc: 0.8336, val acc: 0.772200, total: 50000, lr: 0.113356\n",
      "Epoch:11, train cost: 0.459466, val cost: 0.806160, train acc: 0.8413, val acc: 0.752200, total: 50000, lr: 0.126421\n",
      "Epoch:12, train cost: 0.433977, val cost: 0.656564, train acc: 0.8489, val acc: 0.786600, total: 50000, lr: 0.139136\n",
      "Epoch:13, train cost: 0.408131, val cost: 0.545763, train acc: 0.8580, val acc: 0.817800, total: 50000, lr: 0.151230\n",
      "Epoch:14, train cost: 0.393676, val cost: 0.943757, train acc: 0.8630, val acc: 0.724400, total: 50000, lr: 0.162443\n",
      "Epoch:15, train cost: 0.371196, val cost: 0.669695, train acc: 0.8715, val acc: 0.791800, total: 50000, lr: 0.172539\n",
      "Epoch:16, train cost: 0.348018, val cost: 0.713985, train acc: 0.8796, val acc: 0.783600, total: 50000, lr: 0.181300\n",
      "Epoch:17, train cost: 0.330238, val cost: 0.593071, train acc: 0.8857, val acc: 0.807000, total: 50000, lr: 0.188539\n",
      "Epoch:18, train cost: 0.313065, val cost: 0.669933, train acc: 0.8922, val acc: 0.806400, total: 50000, lr: 0.194104\n",
      "Epoch:19, train cost: 0.303722, val cost: 0.543981, train acc: 0.8927, val acc: 0.820200, total: 50000, lr: 0.197874\n",
      "Epoch:20, train cost: 0.295259, val cost: 0.649085, train acc: 0.8978, val acc: 0.795600, total: 50000, lr: 0.199769\n",
      "Epoch:21, train cost: 0.277250, val cost: 0.611051, train acc: 0.9036, val acc: 0.807600, total: 50000, lr: 0.199750\n",
      "Epoch:22, train cost: 0.274237, val cost: 0.538548, train acc: 0.9050, val acc: 0.834600, total: 50000, lr: 0.197815\n",
      "Epoch:23, train cost: 0.254997, val cost: 0.622758, train acc: 0.9108, val acc: 0.813000, total: 50000, lr: 0.194008\n",
      "Epoch:24, train cost: 0.246293, val cost: 0.748958, train acc: 0.9143, val acc: 0.787600, total: 50000, lr: 0.188408\n",
      "Epoch:25, train cost: 0.233744, val cost: 0.530323, train acc: 0.9194, val acc: 0.835600, total: 50000, lr: 0.181135\n",
      "Epoch:26, train cost: 0.216636, val cost: 0.566219, train acc: 0.9239, val acc: 0.828600, total: 50000, lr: 0.172345\n",
      "Epoch:27, train cost: 0.214072, val cost: 0.617105, train acc: 0.9263, val acc: 0.819000, total: 50000, lr: 0.162225\n",
      "Epoch:28, train cost: 0.198989, val cost: 0.557410, train acc: 0.9323, val acc: 0.840000, total: 50000, lr: 0.150991\n",
      "Epoch:29, train cost: 0.184883, val cost: 0.613001, train acc: 0.9369, val acc: 0.826400, total: 50000, lr: 0.138882\n",
      "Epoch:30, train cost: 0.186717, val cost: 0.556394, train acc: 0.9365, val acc: 0.844800, total: 50000, lr: 0.126157\n",
      "Epoch:31, train cost: 0.169311, val cost: 0.573028, train acc: 0.9420, val acc: 0.843800, total: 50000, lr: 0.113087\n",
      "Epoch:32, train cost: 0.155878, val cost: 0.578927, train acc: 0.9465, val acc: 0.838800, total: 50000, lr: 0.099952\n",
      "Epoch:33, train cost: 0.147591, val cost: 0.520663, train acc: 0.9499, val acc: 0.854600, total: 50000, lr: 0.087031\n",
      "Epoch:34, train cost: 0.134346, val cost: 0.536625, train acc: 0.9552, val acc: 0.855800, total: 50000, lr: 0.074600\n",
      "Epoch:35, train cost: 0.128070, val cost: 0.503877, train acc: 0.9573, val acc: 0.859600, total: 50000, lr: 0.062924\n",
      "Epoch:36, train cost: 0.112195, val cost: 0.518762, train acc: 0.9631, val acc: 0.863800, total: 50000, lr: 0.052252\n",
      "Epoch:37, train cost: 0.102763, val cost: 0.483801, train acc: 0.9657, val acc: 0.867600, total: 50000, lr: 0.042812\n",
      "Epoch:38, train cost: 0.092055, val cost: 0.499207, train acc: 0.9701, val acc: 0.862000, total: 50000, lr: 0.034806\n",
      "Epoch:39, train cost: 0.084437, val cost: 0.465247, train acc: 0.9732, val acc: 0.877000, total: 50000, lr: 0.028404\n",
      "Epoch:40, train cost: 0.075137, val cost: 0.465556, train acc: 0.9770, val acc: 0.886800, total: 50000, lr: 0.023743\n",
      "Epoch:41, train cost: 0.067449, val cost: 0.486794, train acc: 0.9793, val acc: 0.876400, total: 50000, lr: 0.020921\n",
      "Epoch:42, train cost: 0.064730, val cost: 0.482798, train acc: 0.9800, val acc: 0.879000, total: 50000, lr: 0.020000\n",
      "Epoch:43, train cost: 0.057437, val cost: 0.478872, train acc: 0.9822, val acc: 0.877600, total: 50000, lr: 0.018974\n",
      "Epoch:44, train cost: 0.058277, val cost: 0.503352, train acc: 0.9818, val acc: 0.880600, total: 50000, lr: 0.016177\n",
      "Epoch:45, train cost: 0.055075, val cost: 0.463869, train acc: 0.9828, val acc: 0.885600, total: 50000, lr: 0.012163\n",
      "Epoch:46, train cost: 0.050137, val cost: 0.460153, train acc: 0.9842, val acc: 0.888600, total: 50000, lr: 0.007723\n",
      "Epoch:47, train cost: 0.047726, val cost: 0.459419, train acc: 0.9853, val acc: 0.888400, total: 50000, lr: 0.003736\n",
      "Epoch:48, train cost: 0.043449, val cost: 0.457005, train acc: 0.9865, val acc: 0.891200, total: 50000, lr: 0.000987\n",
      "Epoch:49, train cost: 0.041254, val cost: 0.457271, train acc: 0.9870, val acc: 0.890800, total: 50000, lr: 0.000020\n"
     ]
    }
   ],
   "source": [
    "model_resnet56 = ResNet56()\n",
    "optimiser_resnet56 = torch.optim.SGD(model_resnet56.parameters(),\n",
    "                                     lr=0.1, momentum=0.95,\n",
    "                                     weight_decay=1e-4)\n",
    "epochs = 50\n",
    "scheduler = torch.optim.lr_scheduler.OneCycleLR(optimiser_resnet56, \n",
    "                                                max_lr=2e-1, \n",
    "                                                steps_per_epoch=len(train_loader), \n",
    "                                                epochs = epochs, pct_start=0.43, \n",
    "                                                div_factor=10, \n",
    "                                                final_div_factor=1000, \n",
    "                                                three_phase=True, verbose=False\n",
    "                                            )\n",
    "train_loss_history, val_loss_history, train_acc_history, val_acc_history, lrs = train(\n",
    "                                model_resnet56, \n",
    "                                optimiser=optimiser_resnet56,\n",
    "                                scheduler=scheduler,\n",
    "                                epochs = epochs\n",
    "                                )"
   ]
  },
  {
   "cell_type": "code",
   "execution_count": 16,
   "id": "eddf2c62",
   "metadata": {},
   "outputs": [
    {
     "data": {
      "text/plain": [
       "(0.4321012914180756, 0.896)"
      ]
     },
     "execution_count": 16,
     "metadata": {},
     "output_type": "execute_result"
    }
   ],
   "source": [
    "accuracy(model_resnet56, test_loader)"
   ]
  },
  {
   "cell_type": "code",
   "execution_count": null,
   "id": "4b23709d",
   "metadata": {},
   "outputs": [],
   "source": []
  }
 ],
 "metadata": {
  "kernelspec": {
   "display_name": "Python 3 (ipykernel)",
   "language": "python",
   "name": "python3"
  },
  "language_info": {
   "codemirror_mode": {
    "name": "ipython",
    "version": 3
   },
   "file_extension": ".py",
   "mimetype": "text/x-python",
   "name": "python",
   "nbconvert_exporter": "python",
   "pygments_lexer": "ipython3",
   "version": "3.9.7"
  }
 },
 "nbformat": 4,
 "nbformat_minor": 5
}
