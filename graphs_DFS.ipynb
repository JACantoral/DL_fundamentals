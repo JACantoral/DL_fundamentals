{
 "cells": [
  {
   "cell_type": "markdown",
   "id": "2780eb1f",
   "metadata": {},
   "source": [
    "## Graphs"
   ]
  },
  {
   "cell_type": "code",
   "execution_count": 1,
   "id": "cbcf63a7",
   "metadata": {
    "slideshow": {
     "slide_type": ""
    }
   },
   "outputs": [],
   "source": [
    "# Using a basic dictionary object\n",
    "G = {'S':[]}"
   ]
  },
  {
   "cell_type": "code",
   "execution_count": 2,
   "id": "22477c0b",
   "metadata": {
    "code_folding": []
   },
   "outputs": [],
   "source": [
    "class Directed_Graph:\n",
    "    def __init__(self):\n",
    "        self.graph_dict = {}\n",
    "    def add_vertex(self, vertex):\n",
    "        if vertex in self.graph_dict:\n",
    "            return \"Vertex already in graph\"\n",
    "        self.graph_dict[vertex] = []\n",
    "    def add_edge(self, edge):\n",
    "        v1 = edge.get_v1()\n",
    "        v2 = edge.get_v2()\n",
    "        if v1 not in self.graph_dict:\n",
    "            raise ValueError(f'Vertex {v1.get_name()} not in graph')\n",
    "        if v2 not in self.graph_dict:\n",
    "            raise ValueError(f'Vertex {v2.get_name()} not in graph')\n",
    "        self.graph_dict[v1].append(v2)\n",
    "    \n",
    "    def is_vertex_in(self, vertex):\n",
    "        return vertex in self.graph_dict\n",
    "        \n",
    "    def get_vertex(self, vertex_name):\n",
    "        for v in self.graph_dict:\n",
    "            if vertex_name == v.get_name():\n",
    "                return v\n",
    "        print(f'Vertex {vertex_name} does not exist')\n",
    "        \n",
    "    def get_neighbours(self, vertex):\n",
    "        return self.graph_dict[vertex]\n",
    "    \n",
    "    def __str__(self):\n",
    "        all_edges = ''\n",
    "        for v1 in self.graph_dict:\n",
    "            for v2 in self.graph_dict[v1]:\n",
    "                all_edges += v1.get_name() + '---->' + v2.get_name() + '\\n'\n",
    "        return all_edges\n",
    "\n",
    "class Undirected_Graph(Directed_Graph):\n",
    "    def add_edge(self, edge):\n",
    "        Directed_Graph.add_edge(self, edge)\n",
    "        edge_back = Edge(edge.get_v2(), edge.get_v1())\n",
    "        Directed_Graph.add_edge(self, edge_back)"
   ]
  },
  {
   "cell_type": "code",
   "execution_count": 3,
   "id": "0c10e0c6",
   "metadata": {
    "code_folding": []
   },
   "outputs": [],
   "source": [
    "class Edge:\n",
    "    def __init__(self, v1, v2):\n",
    "        self.v1 = v1 \n",
    "        self.v2 = v2\n",
    "    def get_v1(self):\n",
    "        return self.v1\n",
    "    def get_v2(self):\n",
    "        return self.v2\n",
    "    def __str__(self):\n",
    "        return self.v1graph_dict.get_name() + ' ----> ' + self.v2.get_name()"
   ]
  },
  {
   "cell_type": "code",
   "execution_count": 4,
   "id": "28560686",
   "metadata": {
    "code_folding": []
   },
   "outputs": [],
   "source": [
    "class Vertex:\n",
    "    def __init__(self, name):\n",
    "        self.name = name\n",
    "    def get_name(self):\n",
    "        return self.name\n",
    "    def __str__(self):\n",
    "        return self.name"
   ]
  },
  {
   "cell_type": "code",
   "execution_count": 5,
   "id": "b2ef65ac",
   "metadata": {},
   "outputs": [],
   "source": [
    "def build_graph(graph):\n",
    "    g = graph()\n",
    "    for v in ('s', 'a', 'b', 'c', 'd', 'e', 'f', 'g','i', 'x'):\n",
    "        g.add_vertex(Vertex(v))\n",
    "    g.add_edge(Edge(g.get_vertex('s'), g.get_vertex('a')) )\n",
    "    g.add_edge(Edge(g.get_vertex('s'), g.get_vertex('b')) )\n",
    "    g.add_edge(Edge(g.get_vertex('s'), g.get_vertex('c')) )\n",
    "    g.add_edge(Edge(g.get_vertex('s'), g.get_vertex('d')) )\n",
    "    g.add_edge(Edge(g.get_vertex('a'), g.get_vertex('b')) )\n",
    "    g.add_edge(Edge(g.get_vertex('a'), g.get_vertex('g')) )\n",
    "    g.add_edge(Edge(g.get_vertex('b'), g.get_vertex('c')) )\n",
    "    g.add_edge(Edge(g.get_vertex('c'), g.get_vertex('d')) )\n",
    "    g.add_edge(Edge(g.get_vertex('c'), g.get_vertex('f')) )\n",
    "    g.add_edge(Edge(g.get_vertex('c'), g.get_vertex('i')) )\n",
    "    g.add_edge(Edge(g.get_vertex('d'), g.get_vertex('e')) )\n",
    "    g.add_edge(Edge(g.get_vertex('d'), g.get_vertex('f')) )\n",
    "    g.add_edge(Edge(g.get_vertex('e'), g.get_vertex('x')) )\n",
    "    g.add_edge(Edge(g.get_vertex('f'), g.get_vertex('i')) )\n",
    "    \n",
    "    return g"
   ]
  },
  {
   "cell_type": "code",
   "execution_count": 6,
   "id": "6c95ff71",
   "metadata": {},
   "outputs": [],
   "source": [
    "G1 = build_graph(Undirected_Graph)"
   ]
  },
  {
   "cell_type": "code",
   "execution_count": 7,
   "id": "2a18ea58",
   "metadata": {},
   "outputs": [
    {
     "name": "stdout",
     "output_type": "stream",
     "text": [
      "s---->a\n",
      "s---->b\n",
      "s---->c\n",
      "s---->d\n",
      "a---->s\n",
      "a---->b\n",
      "a---->g\n",
      "b---->s\n",
      "b---->a\n",
      "b---->c\n",
      "c---->s\n",
      "c---->b\n",
      "c---->d\n",
      "c---->f\n",
      "c---->i\n",
      "d---->s\n",
      "d---->c\n",
      "d---->e\n",
      "d---->f\n",
      "e---->d\n",
      "e---->x\n",
      "f---->c\n",
      "f---->d\n",
      "f---->i\n",
      "g---->a\n",
      "i---->c\n",
      "i---->f\n",
      "x---->e\n",
      "\n"
     ]
    }
   ],
   "source": [
    "print(G1)"
   ]
  },
  {
   "cell_type": "markdown",
   "id": "62f13744",
   "metadata": {},
   "source": [
    "### Depth first search"
   ]
  },
  {
   "cell_type": "code",
   "execution_count": 8,
   "id": "a9f186d1",
   "metadata": {},
   "outputs": [],
   "source": [
    "def DFS_path(graph, start, end, path):\n",
    "    path.append(start)\n",
    "    # base case\n",
    "    if start == end:\n",
    "        return path\n",
    "    \n",
    "    for v in graph.get_neighbours(start):\n",
    "        if v not in path:\n",
    "            new_path = DFS_path(graph, v,  end, path)\n",
    "            if new_path is not None:\n",
    "                return new_path\n"
   ]
  },
  {
   "cell_type": "code",
   "execution_count": 9,
   "id": "77589b25",
   "metadata": {},
   "outputs": [],
   "source": [
    "path = DFS_path(G1, G1.get_vertex('s'), G1.get_vertex('x'), [])"
   ]
  },
  {
   "cell_type": "code",
   "execution_count": 10,
   "id": "d27e3852",
   "metadata": {},
   "outputs": [
    {
     "name": "stdout",
     "output_type": "stream",
     "text": [
      "[<__main__.Vertex object at 0x7f06bc30f0d0>, <__main__.Vertex object at 0x7f06bc30fb80>, <__main__.Vertex object at 0x7f06bc30f190>, <__main__.Vertex object at 0x7f06bc30f9a0>, <__main__.Vertex object at 0x7f06bc30ff70>, <__main__.Vertex object at 0x7f06bc30ff40>, <__main__.Vertex object at 0x7f06bc30fac0>]\n"
     ]
    }
   ],
   "source": [
    "print(path)"
   ]
  },
  {
   "cell_type": "code",
   "execution_count": 11,
   "id": "5bdd422c",
   "metadata": {},
   "outputs": [
    {
     "name": "stdout",
     "output_type": "stream",
     "text": [
      "\"s\" \"a\" \"b\" \"c\" \"d\" \"e\" \"x\" "
     ]
    }
   ],
   "source": [
    "for v in path:\n",
    "    print(f'\"{v.get_name()}\"', end=' ')"
   ]
  },
  {
   "cell_type": "code",
   "execution_count": 43,
   "id": "188e0a3f",
   "metadata": {},
   "outputs": [],
   "source": [
    "def DFS_path2(graph, start, end, path, best):\n",
    "    path = path + [start]\n",
    "    # base case\n",
    "    if start == end:\n",
    "        return path\n",
    "    for v in graph.get_neighbours(start):\n",
    "        if v not in path:\n",
    "            if best == None or len(path) < len(best):\n",
    "                new_path = DFS_path2(graph, v,  end, path, best)\n",
    "                if new_path is not None:\n",
    "                    best = new_path\n",
    "    return best"
   ]
  },
  {
   "cell_type": "code",
   "execution_count": 44,
   "id": "b5e9e75a",
   "metadata": {},
   "outputs": [],
   "source": [
    "path2 = DFS_path2(G1, G1.get_vertex('s'), G1.get_vertex('x'), [], None)"
   ]
  },
  {
   "cell_type": "code",
   "execution_count": 36,
   "id": "d71e62aa",
   "metadata": {},
   "outputs": [
    {
     "name": "stdout",
     "output_type": "stream",
     "text": [
      "\"s\" \"d\" \"e\" \"x\" "
     ]
    }
   ],
   "source": [
    "for v in path2:\n",
    "    print(f'\"{v.get_name()}\"', end=' ')\n"
   ]
  }
 ],
 "metadata": {
  "kernelspec": {
   "display_name": "Python 3 (ipykernel)",
   "language": "python",
   "name": "python3"
  },
  "language_info": {
   "codemirror_mode": {
    "name": "ipython",
    "version": 3
   },
   "file_extension": ".py",
   "mimetype": "text/x-python",
   "name": "python",
   "nbconvert_exporter": "python",
   "pygments_lexer": "ipython3",
   "version": "3.9.7"
  },
  "toc": {
   "base_numbering": 1,
   "nav_menu": {},
   "number_sections": true,
   "sideBar": true,
   "skip_h1_title": false,
   "title_cell": "Table of Contents",
   "title_sidebar": "Contents",
   "toc_cell": false,
   "toc_position": {},
   "toc_section_display": true,
   "toc_window_display": false
  },
  "varInspector": {
   "cols": {
    "lenName": 16,
    "lenType": 16,
    "lenVar": 40
   },
   "kernels_config": {
    "python": {
     "delete_cmd_postfix": "",
     "delete_cmd_prefix": "del ",
     "library": "var_list.py",
     "varRefreshCmd": "print(var_dic_list())"
    },
    "r": {
     "delete_cmd_postfix": ") ",
     "delete_cmd_prefix": "rm(",
     "library": "var_list.r",
     "varRefreshCmd": "cat(var_dic_list()) "
    }
   },
   "types_to_exclude": [
    "module",
    "function",
    "builtin_function_or_method",
    "instance",
    "_Feature"
   ],
   "window_display": false
  }
 },
 "nbformat": 4,
 "nbformat_minor": 5
}
