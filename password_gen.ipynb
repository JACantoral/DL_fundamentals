{
 "cells": [
  {
   "cell_type": "code",
   "execution_count": 1,
   "id": "44b65f8e",
   "metadata": {},
   "outputs": [],
   "source": [
    "import string\n",
    "import secrets\n",
    "import random"
   ]
  },
  {
   "cell_type": "code",
   "execution_count": 3,
   "id": "58b0d0a4",
   "metadata": {},
   "outputs": [
    {
     "name": "stdout",
     "output_type": "stream",
     "text": [
      "i7c'72S00Fj.\n"
     ]
    }
   ],
   "source": [
    "alphabet = string.ascii_letters + string.digits + string.punctuation\n",
    "\n",
    "while True:\n",
    "    password = ''.join(secrets.choice(alphabet) for i in range(12))\n",
    "    if (any(c.islower() for c in password)\n",
    "            and any(c.isupper() for c in password)\n",
    "            and sum(c.isdigit() for c in password) >= 5):\n",
    "        break\n",
    "        \n",
    "print(password)"
   ]
  },
  {
   "cell_type": "code",
   "execution_count": 3,
   "id": "6b0af109",
   "metadata": {},
   "outputs": [
    {
     "name": "stdout",
     "output_type": "stream",
     "text": [
      "H03dl2xee210\n"
     ]
    }
   ],
   "source": [
    "alphabet = string.ascii_letters + string.digits\n",
    "while True:\n",
    "    password = ''.join(secrets.choice(alphabet) for i in range(12))\n",
    "    if (any(c.islower() for c in password)\n",
    "            and any(c.isupper() for c in password)\n",
    "            and sum(c.isdigit() for c in password) >= 5):\n",
    "        break\n",
    "        \n",
    "print(password)"
   ]
  },
  {
   "cell_type": "code",
   "execution_count": null,
   "id": "eae96a79",
   "metadata": {},
   "outputs": [],
   "source": [
    "print(alphabet)"
   ]
  },
  {
   "cell_type": "code",
   "execution_count": null,
   "id": "f3974fcb",
   "metadata": {},
   "outputs": [],
   "source": [
    "type(alphabet)"
   ]
  },
  {
   "cell_type": "code",
   "execution_count": null,
   "id": "ee2cf49f",
   "metadata": {},
   "outputs": [],
   "source": [
    "import numpy as np\n",
    "import torch\n",
    "import torch.nn as nn\n",
    "import torch.nn.functional as F"
   ]
  },
  {
   "cell_type": "code",
   "execution_count": null,
   "id": "52c2a244",
   "metadata": {},
   "outputs": [],
   "source": [
    "y = np.array([0, 0, 1, 1])\n",
    "y_hat = np.array([0.3, 0.4, 0.6, 0.7])"
   ]
  },
  {
   "cell_type": "code",
   "execution_count": null,
   "id": "f70b4331",
   "metadata": {},
   "outputs": [],
   "source": [
    "# Example usage:\n",
    "# y = np.array([1, 0, 1, 1, 0])\n",
    "# y_hat = np.array([0.9, 0.1, 0.8, 0.7, 0.2])\n",
    "\n",
    "bce=-1*((y*np.log(y_hat) + (1-y)*np.log(1-y_hat)).mean())\n",
    "\n",
    "# bce= np.log()\n",
    "print(bce)"
   ]
  },
  {
   "cell_type": "code",
   "execution_count": null,
   "id": "846f0a1e",
   "metadata": {},
   "outputs": [],
   "source": [
    "import numpy as np\n",
    "\n",
    "def binary_cross_entropy(y, y_hat):\n",
    "    return -np.mean(y * np.log(y_hat) + (1 - y) * np.log(1 - y_hat))\n",
    "\n",
    "# Example usage:\n",
    "y = np.array([0, 0, 1, 1])\n",
    "y_hat = np.array([0.3, 0.4, 0.6, 0.7])\n",
    "\n",
    "print(binary_cross_entropy(y, y_hat))\n"
   ]
  },
  {
   "cell_type": "code",
   "execution_count": null,
   "id": "5be109ab",
   "metadata": {},
   "outputs": [],
   "source": [
    "y = np.array([0, 0, 1, 1])\n",
    "y_hat = np.array([0.05, 0.15, 0.85, 0.95])"
   ]
  },
  {
   "cell_type": "code",
   "execution_count": null,
   "id": "61fa25cd",
   "metadata": {},
   "outputs": [],
   "source": [
    "print(binary_cross_entropy(y, y_hat))\n"
   ]
  },
  {
   "cell_type": "code",
   "execution_count": null,
   "id": "68be6891",
   "metadata": {},
   "outputs": [],
   "source": []
  }
 ],
 "metadata": {
  "kernelspec": {
   "display_name": "Python 3 (ipykernel)",
   "language": "python",
   "name": "python3"
  },
  "language_info": {
   "codemirror_mode": {
    "name": "ipython",
    "version": 3
   },
   "file_extension": ".py",
   "mimetype": "text/x-python",
   "name": "python",
   "nbconvert_exporter": "python",
   "pygments_lexer": "ipython3",
   "version": "3.9.0"
  },
  "toc": {
   "base_numbering": 1,
   "nav_menu": {},
   "number_sections": true,
   "sideBar": true,
   "skip_h1_title": false,
   "title_cell": "Table of Contents",
   "title_sidebar": "Contents",
   "toc_cell": false,
   "toc_position": {},
   "toc_section_display": true,
   "toc_window_display": false
  },
  "varInspector": {
   "cols": {
    "lenName": 16,
    "lenType": 16,
    "lenVar": 40
   },
   "kernels_config": {
    "python": {
     "delete_cmd_postfix": "",
     "delete_cmd_prefix": "del ",
     "library": "var_list.py",
     "varRefreshCmd": "print(var_dic_list())"
    },
    "r": {
     "delete_cmd_postfix": ") ",
     "delete_cmd_prefix": "rm(",
     "library": "var_list.r",
     "varRefreshCmd": "cat(var_dic_list()) "
    }
   },
   "types_to_exclude": [
    "module",
    "function",
    "builtin_function_or_method",
    "instance",
    "_Feature"
   ],
   "window_display": false
  }
 },
 "nbformat": 4,
 "nbformat_minor": 5
}
