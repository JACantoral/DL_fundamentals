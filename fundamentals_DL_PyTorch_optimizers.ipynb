{
 "cells": [
  {
   "cell_type": "markdown",
   "metadata": {},
   "source": [
    "# PyTorch"
   ]
  },
  {
   "cell_type": "markdown",
   "metadata": {},
   "source": [
    "## Importar librerías"
   ]
  },
  {
   "cell_type": "code",
   "execution_count": 2,
   "metadata": {},
   "outputs": [],
   "source": [
    "import numpy as np\n",
    "import matplotlib.pyplot as plt\n",
    "\n",
    "# PyTorch \n",
    "import torch\n",
    "import torch.nn as nn\n",
    "import torch.nn.functional as F"
   ]
  },
  {
   "cell_type": "markdown",
   "metadata": {},
   "source": [
    "## Importar imágenes "
   ]
  },
  {
   "cell_type": "code",
   "execution_count": 3,
   "metadata": {},
   "outputs": [],
   "source": [
    "from get_images import get_images"
   ]
  },
  {
   "cell_type": "code",
   "execution_count": 4,
   "metadata": {},
   "outputs": [],
   "source": [
    "# MNIST path\n",
    "mnist_path = './mnist_raw/'\n",
    "x_train_num, y_train_num, x_test_num, y_test_num = get_images(mnist_path)\n",
    "\n",
    "x_train = x_train_num[:50000].reshape(50000, -1).astype(np.float32)\n",
    "y_train = y_train_num[:50000].reshape(50000, 1)\n",
    "\n",
    "x_val = x_train_num[50000:].reshape(10000, -1).astype(np.float)\n",
    "y_val = y_train_num[50000:].reshape(10000, 1)\n",
    "\n",
    "x_test = x_test_num.copy().reshape(10000, -1).astype(np.float)\n",
    "y_test = y_test_num.copy().reshape(10000, 1)"
   ]
  },
  {
   "cell_type": "markdown",
   "metadata": {},
   "source": [
    "## Normalizar imágenes"
   ]
  },
  {
   "cell_type": "code",
   "execution_count": 5,
   "metadata": {},
   "outputs": [],
   "source": [
    "def normalise(x_mean, x_std, x_data):\n",
    "    return (x_data - x_mean) / x_std"
   ]
  },
  {
   "cell_type": "code",
   "execution_count": 6,
   "metadata": {},
   "outputs": [],
   "source": [
    "x_mean = x_train.mean()\n",
    "x_std = x_train.std()\n",
    "\n",
    "x_train = normalise(x_mean, x_std, x_train)\n",
    "x_val = normalise(x_mean, x_std, x_val)\n",
    "x_test = normalise(x_mean, x_std, x_test)"
   ]
  },
  {
   "cell_type": "code",
   "execution_count": 7,
   "metadata": {},
   "outputs": [
    {
     "data": {
      "text/plain": [
       "(-3.1638146e-07, 0.99999934)"
      ]
     },
     "execution_count": 7,
     "metadata": {},
     "output_type": "execute_result"
    }
   ],
   "source": [
    "x_train.mean(), x_train.std()"
   ]
  },
  {
   "cell_type": "markdown",
   "metadata": {},
   "source": [
    "## Mostrar imágenes "
   ]
  },
  {
   "cell_type": "code",
   "execution_count": 8,
   "metadata": {},
   "outputs": [
    {
     "data": {
      "text/plain": [
       "(10000, 784)"
      ]
     },
     "execution_count": 8,
     "metadata": {},
     "output_type": "execute_result"
    }
   ],
   "source": [
    "x_test.shape"
   ]
  },
  {
   "cell_type": "code",
   "execution_count": 9,
   "metadata": {},
   "outputs": [
    {
     "data": {
      "text/plain": [
       "(50000, 1)"
      ]
     },
     "execution_count": 9,
     "metadata": {},
     "output_type": "execute_result"
    }
   ],
   "source": [
    "y_train.shape"
   ]
  },
  {
   "cell_type": "code",
   "execution_count": 10,
   "metadata": {},
   "outputs": [],
   "source": [
    "def plot_number(image):\n",
    "    plt.figure(figsize=(5,5))\n",
    "    plt.imshow(image.squeeze(), cmap=plt.get_cmap('gray'))\n",
    "    plt.axis('off')\n",
    "    plt.show()"
   ]
  },
  {
   "cell_type": "code",
   "execution_count": 11,
   "metadata": {},
   "outputs": [
    {
     "name": "stdout",
     "output_type": "stream",
     "text": [
      "La imagen muestreada representa un: 4\n"
     ]
    },
    {
     "data": {
      "image/png": "[encoded data removed]",
      "text/plain": [
       "<Figure size 360x360 with 1 Axes>"
      ]
     },
     "metadata": {
      "needs_background": "light"
     },
     "output_type": "display_data"
    }
   ],
   "source": [
    "rnd_idx = np.random.randint(len(y_test))\n",
    "print(f'La imagen muestreada representa un: {y_test[rnd_idx, 0]}')\n",
    "plot_number(x_test_num[rnd_idx])"
   ]
  },
  {
   "cell_type": "markdown",
   "metadata": {},
   "source": [
    "## Crear minibatches "
   ]
  },
  {
   "cell_type": "code",
   "execution_count": 12,
   "metadata": {},
   "outputs": [],
   "source": [
    "def create_minibatches(x, y, mb_size, shuffle = True):\n",
    "    '''\n",
    "    x  #muestras, 784\n",
    "    y #muestras, 1\n",
    "    '''\n",
    "    assert x.shape[0] == y.shape[0], 'Error en cantidad de muestras'\n",
    "    total_data = x.shape[0]\n",
    "    if shuffle: \n",
    "        idxs = np.arange(total_data)\n",
    "        np.random.shuffle(idxs)\n",
    "        x = x[idxs]\n",
    "        y = y[idxs]  \n",
    "    return ((x[i:i+mb_size], y[i:i+mb_size]) for i in range(0, total_data, mb_size))"
   ]
  },
  {
   "cell_type": "markdown",
   "metadata": {},
   "source": [
    "## Ahora sí! PyTorch"
   ]
  },
  {
   "cell_type": "markdown",
   "metadata": {},
   "source": [
    "## Convertir Numpy array a PyTorch "
   ]
  },
  {
   "cell_type": "code",
   "execution_count": 13,
   "metadata": {},
   "outputs": [],
   "source": [
    "x_train_tensor = torch.tensor(x_train.copy())\n",
    "y_train_tensor = torch.tensor(y_train.copy())\n",
    "\n",
    "x_val_tensor = torch.tensor(x_val.copy())\n",
    "y_val_tensor = torch.tensor(y_val.copy())\n",
    "\n",
    "x_test_tensor = torch.tensor(x_test.copy())\n",
    "y_test_tensor = torch.tensor(y_test.copy())"
   ]
  },
  {
   "cell_type": "code",
   "execution_count": null,
   "metadata": {},
   "outputs": [],
   "source": []
  },
  {
   "cell_type": "markdown",
   "metadata": {},
   "source": [
    "\n",
    "## Usar GPU de estar disponible"
   ]
  },
  {
   "cell_type": "code",
   "execution_count": 14,
   "metadata": {},
   "outputs": [
    {
     "name": "stdout",
     "output_type": "stream",
     "text": [
      "Estammos usando: cuda\n"
     ]
    }
   ],
   "source": [
    "if torch.cuda.is_available():\n",
    "    device = torch.device('cuda')\n",
    "else:\n",
    "    device = torch.device('cpu')\n",
    "print(f'Estammos usando: {device}')"
   ]
  },
  {
   "cell_type": "markdown",
   "metadata": {},
   "source": [
    "## Compute accuracy "
   ]
  },
  {
   "cell_type": "code",
   "execution_count": 15,
   "metadata": {},
   "outputs": [],
   "source": [
    "def accuracy(model, x, y, mb_size):\n",
    "    num_correct = 0\n",
    "    num_total = 0\n",
    "    model.eval()\n",
    "    model = model.to(device=device)\n",
    "    with torch.no_grad():\n",
    "        for (xi, yi) in create_minibatches(x, y, mb_size):\n",
    "            xi = xi.to(device=device, dtype = torch.float32)\n",
    "            yi = yi.to(device=device, dtype = torch.long)\n",
    "            scores = model(xi) # mb_size, 10\n",
    "            _, pred = scores.max(dim=1) #pred shape (mb_size )\n",
    "            num_correct += (pred == yi.squeeze()).sum() # pred shape (mb_size), yi shape (mb_size, 1)\n",
    "            num_total += pred.size(0)\n",
    "\n",
    "            return float(num_correct)/num_total     \n",
    "            "
   ]
  },
  {
   "cell_type": "markdown",
   "metadata": {},
   "source": [
    "## Loop de entrenamiento"
   ]
  },
  {
   "cell_type": "code",
   "execution_count": 19,
   "metadata": {},
   "outputs": [],
   "source": [
    "def train(model, optimiser, mb_size):\n",
    "    model = model.to(device=device)\n",
    "#     for epoch in range(epochs):\n",
    "    acc = 0.0\n",
    "    epoch = 0\n",
    "    while acc < 0.95:\n",
    "        for (xi, yi) in create_minibatches(x_train_tensor, y_train_tensor, mb_size):\n",
    "            model.train()\n",
    "            xi = xi.to(device=device, dtype=torch.float32)\n",
    "            yi = yi.to(device=device, dtype=torch.long)\n",
    "            scores = model(xi)\n",
    "            # funcion cost\n",
    "            cost = F.cross_entropy(input= scores, target=yi.squeeze())\n",
    "            optimiser.zero_grad()\n",
    "            cost.backward()\n",
    "            optimiser.step()\n",
    "        epoch += 1\n",
    "        acc = accuracy(model, x_val_tensor, y_val_tensor, mb_size)\n",
    "        print(f'Epoch: {epoch}, costo: {cost.item()}, accuracy: {acc}')\n",
    "    "
   ]
  },
  {
   "cell_type": "markdown",
   "metadata": {},
   "source": [
    "## Modelo usando Sequential"
   ]
  },
  {
   "cell_type": "markdown",
   "metadata": {},
   "source": [
    "### SGD"
   ]
  },
  {
   "cell_type": "code",
   "execution_count": 20,
   "metadata": {
    "scrolled": true
   },
   "outputs": [
    {
     "name": "stdout",
     "output_type": "stream",
     "text": [
      "Epoch: 1, costo: 2.239060640335083, accuracy: 0.35693359375\n",
      "Epoch: 2, costo: 2.1627449989318848, accuracy: 0.57568359375\n",
      "Epoch: 3, costo: 2.061123847961426, accuracy: 0.666259765625\n",
      "Epoch: 4, costo: 1.955766201019287, accuracy: 0.711669921875\n",
      "Epoch: 5, costo: 1.8481581211090088, accuracy: 0.735107421875\n",
      "Epoch: 6, costo: 1.7253026962280273, accuracy: 0.756591796875\n",
      "Epoch: 7, costo: 1.5788172483444214, accuracy: 0.75927734375\n",
      "Epoch: 8, costo: 1.481008768081665, accuracy: 0.77490234375\n",
      "Epoch: 9, costo: 1.3326393365859985, accuracy: 0.790771484375\n",
      "Epoch: 10, costo: 1.21952486038208, accuracy: 0.817626953125\n",
      "Epoch: 11, costo: 1.086116075515747, accuracy: 0.818603515625\n",
      "Epoch: 12, costo: 1.0287652015686035, accuracy: 0.834228515625\n",
      "Epoch: 13, costo: 0.9624242782592773, accuracy: 0.83642578125\n",
      "Epoch: 14, costo: 0.8743281960487366, accuracy: 0.847900390625\n",
      "Epoch: 15, costo: 0.816154420375824, accuracy: 0.849365234375\n",
      "Epoch: 16, costo: 0.7607555985450745, accuracy: 0.856201171875\n",
      "Epoch: 17, costo: 0.7500834465026855, accuracy: 0.8671875\n",
      "Epoch: 18, costo: 0.7101011276245117, accuracy: 0.869384765625\n",
      "Epoch: 19, costo: 0.6495276689529419, accuracy: 0.869873046875\n",
      "Epoch: 20, costo: 0.6584154367446899, accuracy: 0.867919921875\n",
      "Epoch: 21, costo: 0.5784075260162354, accuracy: 0.881591796875\n",
      "Epoch: 22, costo: 0.6110544204711914, accuracy: 0.876708984375\n",
      "Epoch: 23, costo: 0.5829055905342102, accuracy: 0.88818359375\n",
      "Epoch: 24, costo: 0.551402747631073, accuracy: 0.87890625\n",
      "Epoch: 25, costo: 0.5432878136634827, accuracy: 0.88623046875\n",
      "Epoch: 26, costo: 0.6002474427223206, accuracy: 0.88330078125\n",
      "Epoch: 27, costo: 0.4809844493865967, accuracy: 0.89404296875\n",
      "Epoch: 28, costo: 0.45720791816711426, accuracy: 0.891357421875\n",
      "Epoch: 29, costo: 0.46773561835289, accuracy: 0.89111328125\n",
      "Epoch: 30, costo: 0.4603041112422943, accuracy: 0.89404296875\n",
      "Epoch: 31, costo: 0.5041053295135498, accuracy: 0.891845703125\n",
      "Epoch: 32, costo: 0.4321691691875458, accuracy: 0.895751953125\n",
      "Epoch: 33, costo: 0.4715702533721924, accuracy: 0.8935546875\n",
      "Epoch: 34, costo: 0.42662936449050903, accuracy: 0.8994140625\n",
      "Epoch: 35, costo: 0.43818041682243347, accuracy: 0.9033203125\n",
      "Epoch: 36, costo: 0.38310062885284424, accuracy: 0.900146484375\n",
      "Epoch: 37, costo: 0.4209498167037964, accuracy: 0.905029296875\n",
      "Epoch: 38, costo: 0.41365480422973633, accuracy: 0.90234375\n",
      "Epoch: 39, costo: 0.4268627166748047, accuracy: 0.905029296875\n",
      "Epoch: 40, costo: 0.39736366271972656, accuracy: 0.90869140625\n",
      "Epoch: 41, costo: 0.42781445384025574, accuracy: 0.90234375\n",
      "Epoch: 42, costo: 0.40514862537384033, accuracy: 0.9052734375\n",
      "Epoch: 43, costo: 0.42380160093307495, accuracy: 0.9013671875\n",
      "Epoch: 44, costo: 0.37245166301727295, accuracy: 0.9091796875\n",
      "Epoch: 45, costo: 0.35640111565589905, accuracy: 0.9052734375\n",
      "Epoch: 46, costo: 0.36540600657463074, accuracy: 0.90966796875\n",
      "Epoch: 47, costo: 0.3595324754714966, accuracy: 0.912841796875\n",
      "Epoch: 48, costo: 0.34483790397644043, accuracy: 0.9052734375\n",
      "Epoch: 49, costo: 0.3844444751739502, accuracy: 0.90234375\n",
      "Epoch: 50, costo: 0.33509117364883423, accuracy: 0.910400390625\n",
      "Epoch: 51, costo: 0.3557101786136627, accuracy: 0.905517578125\n",
      "Epoch: 52, costo: 0.3245837390422821, accuracy: 0.902099609375\n",
      "Epoch: 53, costo: 0.330129474401474, accuracy: 0.91015625\n",
      "Epoch: 54, costo: 0.3727341294288635, accuracy: 0.90673828125\n",
      "Epoch: 55, costo: 0.3272283971309662, accuracy: 0.910888671875\n",
      "Epoch: 56, costo: 0.3651317059993744, accuracy: 0.908447265625\n",
      "Epoch: 57, costo: 0.35305801033973694, accuracy: 0.90478515625\n",
      "Epoch: 58, costo: 0.38102325797080994, accuracy: 0.910888671875\n",
      "Epoch: 59, costo: 0.39583685994148254, accuracy: 0.9140625\n",
      "Epoch: 60, costo: 0.3138631284236908, accuracy: 0.910888671875\n",
      "Epoch: 61, costo: 0.3280384838581085, accuracy: 0.916259765625\n",
      "Epoch: 62, costo: 0.3235752582550049, accuracy: 0.9130859375\n",
      "Epoch: 63, costo: 0.3520738482475281, accuracy: 0.9150390625\n",
      "Epoch: 64, costo: 0.350023478269577, accuracy: 0.912353515625\n",
      "Epoch: 65, costo: 0.3452107012271881, accuracy: 0.91796875\n",
      "Epoch: 66, costo: 0.3540632426738739, accuracy: 0.917724609375\n",
      "Epoch: 67, costo: 0.2857799232006073, accuracy: 0.917724609375\n",
      "Epoch: 68, costo: 0.33889633417129517, accuracy: 0.9150390625\n",
      "Epoch: 69, costo: 0.36473771929740906, accuracy: 0.91015625\n",
      "Epoch: 70, costo: 0.2960383892059326, accuracy: 0.917724609375\n",
      "Epoch: 71, costo: 0.3086077570915222, accuracy: 0.920654296875\n",
      "Epoch: 72, costo: 0.2975511848926544, accuracy: 0.91845703125\n",
      "Epoch: 73, costo: 0.33550214767456055, accuracy: 0.9169921875\n",
      "Epoch: 74, costo: 0.30054402351379395, accuracy: 0.9228515625\n",
      "Epoch: 75, costo: 0.33389824628829956, accuracy: 0.91748046875\n",
      "Epoch: 76, costo: 0.3857404589653015, accuracy: 0.917236328125\n",
      "Epoch: 77, costo: 0.320719838142395, accuracy: 0.921630859375\n",
      "Epoch: 78, costo: 0.33413198590278625, accuracy: 0.91748046875\n",
      "Epoch: 79, costo: 0.3126009702682495, accuracy: 0.914794921875\n",
      "Epoch: 80, costo: 0.29724666476249695, accuracy: 0.91552734375\n",
      "Epoch: 81, costo: 0.3168666362762451, accuracy: 0.91748046875\n",
      "Epoch: 82, costo: 0.3361726403236389, accuracy: 0.92919921875\n",
      "Epoch: 83, costo: 0.2984572649002075, accuracy: 0.922119140625\n",
      "Epoch: 84, costo: 0.3374665081501007, accuracy: 0.923095703125\n",
      "Epoch: 85, costo: 0.32898709177970886, accuracy: 0.9140625\n",
      "Epoch: 86, costo: 0.3016761243343353, accuracy: 0.921142578125\n",
      "Epoch: 87, costo: 0.32695430517196655, accuracy: 0.920654296875\n",
      "Epoch: 88, costo: 0.2747311294078827, accuracy: 0.922119140625\n",
      "Epoch: 89, costo: 0.2465219646692276, accuracy: 0.927734375\n",
      "Epoch: 90, costo: 0.29381194710731506, accuracy: 0.926025390625\n",
      "Epoch: 91, costo: 0.3030693531036377, accuracy: 0.9228515625\n",
      "Epoch: 92, costo: 0.28910332918167114, accuracy: 0.922119140625\n",
      "Epoch: 93, costo: 0.2489253282546997, accuracy: 0.919921875\n",
      "Epoch: 94, costo: 0.3330189287662506, accuracy: 0.92431640625\n",
      "Epoch: 95, costo: 0.3221016526222229, accuracy: 0.91748046875\n",
      "Epoch: 96, costo: 0.2941836714744568, accuracy: 0.92529296875\n",
      "Epoch: 97, costo: 0.27651700377464294, accuracy: 0.925048828125\n",
      "Epoch: 98, costo: 0.32425475120544434, accuracy: 0.921142578125\n",
      "Epoch: 99, costo: 0.28935685753822327, accuracy: 0.925048828125\n",
      "Epoch: 100, costo: 0.31944790482521057, accuracy: 0.923095703125\n",
      "Epoch: 101, costo: 0.26614251732826233, accuracy: 0.930419921875\n",
      "Epoch: 102, costo: 0.29017895460128784, accuracy: 0.93310546875\n",
      "Epoch: 103, costo: 0.24043671786785126, accuracy: 0.927978515625\n",
      "Epoch: 104, costo: 0.29797348380088806, accuracy: 0.927734375\n",
      "Epoch: 105, costo: 0.24177871644496918, accuracy: 0.92724609375\n",
      "Epoch: 106, costo: 0.28537651896476746, accuracy: 0.924560546875\n",
      "Epoch: 107, costo: 0.2734406888484955, accuracy: 0.9287109375\n",
      "Epoch: 108, costo: 0.328951358795166, accuracy: 0.922119140625\n",
      "Epoch: 109, costo: 0.2526033818721771, accuracy: 0.921630859375\n",
      "Epoch: 110, costo: 0.29901984333992004, accuracy: 0.924072265625\n",
      "Epoch: 111, costo: 0.2630281150341034, accuracy: 0.9267578125\n",
      "Epoch: 112, costo: 0.2706812620162964, accuracy: 0.9296875\n",
      "Epoch: 113, costo: 0.27791526913642883, accuracy: 0.92578125\n",
      "Epoch: 114, costo: 0.287354439496994, accuracy: 0.92333984375\n",
      "Epoch: 115, costo: 0.25501543283462524, accuracy: 0.92626953125\n",
      "Epoch: 116, costo: 0.27788418531417847, accuracy: 0.92724609375\n",
      "Epoch: 117, costo: 0.24625709652900696, accuracy: 0.93115234375\n",
      "Epoch: 118, costo: 0.2698110342025757, accuracy: 0.925537109375\n",
      "Epoch: 119, costo: 0.27968713641166687, accuracy: 0.932861328125\n",
      "Epoch: 120, costo: 0.2660796046257019, accuracy: 0.926513671875\n",
      "Epoch: 121, costo: 0.26210352778434753, accuracy: 0.921142578125\n",
      "Epoch: 122, costo: 0.250056654214859, accuracy: 0.927734375\n",
      "Epoch: 123, costo: 0.26381978392601013, accuracy: 0.92529296875\n",
      "Epoch: 124, costo: 0.2684832513332367, accuracy: 0.9248046875\n",
      "Epoch: 125, costo: 0.2726440727710724, accuracy: 0.929931640625\n",
      "Epoch: 126, costo: 0.2504410147666931, accuracy: 0.9287109375\n",
      "Epoch: 127, costo: 0.24677607417106628, accuracy: 0.923095703125\n",
      "Epoch: 128, costo: 0.26990339159965515, accuracy: 0.927001953125\n",
      "Epoch: 129, costo: 0.25197744369506836, accuracy: 0.9267578125\n",
      "Epoch: 130, costo: 0.2925456166267395, accuracy: 0.932373046875\n",
      "Epoch: 131, costo: 0.24302515387535095, accuracy: 0.927978515625\n",
      "Epoch: 132, costo: 0.29466506838798523, accuracy: 0.935302734375\n"
     ]
    },
    {
     "name": "stdout",
     "output_type": "stream",
     "text": [
      "Epoch: 133, costo: 0.285381555557251, accuracy: 0.926513671875\n",
      "Epoch: 134, costo: 0.26794111728668213, accuracy: 0.926513671875\n",
      "Epoch: 135, costo: 0.23693063855171204, accuracy: 0.9287109375\n",
      "Epoch: 136, costo: 0.2476031631231308, accuracy: 0.9267578125\n",
      "Epoch: 137, costo: 0.24764001369476318, accuracy: 0.93017578125\n",
      "Epoch: 138, costo: 0.23280031979084015, accuracy: 0.9287109375\n",
      "Epoch: 139, costo: 0.23762261867523193, accuracy: 0.9296875\n",
      "Epoch: 140, costo: 0.2655695676803589, accuracy: 0.93115234375\n",
      "Epoch: 141, costo: 0.2526872456073761, accuracy: 0.9306640625\n",
      "Epoch: 142, costo: 0.2220446765422821, accuracy: 0.931396484375\n",
      "Epoch: 143, costo: 0.22616946697235107, accuracy: 0.929931640625\n",
      "Epoch: 144, costo: 0.24068549275398254, accuracy: 0.92919921875\n",
      "Epoch: 145, costo: 0.21802373230457306, accuracy: 0.930419921875\n",
      "Epoch: 146, costo: 0.2677121162414551, accuracy: 0.929931640625\n",
      "Epoch: 147, costo: 0.2169344574213028, accuracy: 0.94091796875\n",
      "Epoch: 148, costo: 0.2883422374725342, accuracy: 0.9326171875\n",
      "Epoch: 149, costo: 0.24754145741462708, accuracy: 0.93212890625\n",
      "Epoch: 150, costo: 0.2501649856567383, accuracy: 0.9345703125\n",
      "Epoch: 151, costo: 0.26565513014793396, accuracy: 0.928955078125\n",
      "Epoch: 152, costo: 0.226026713848114, accuracy: 0.937255859375\n",
      "Epoch: 153, costo: 0.2074848711490631, accuracy: 0.93408203125\n",
      "Epoch: 154, costo: 0.27054595947265625, accuracy: 0.93505859375\n",
      "Epoch: 155, costo: 0.21450397372245789, accuracy: 0.931640625\n",
      "Epoch: 156, costo: 0.22715167701244354, accuracy: 0.935546875\n",
      "Epoch: 157, costo: 0.20936818420886993, accuracy: 0.93310546875\n",
      "Epoch: 158, costo: 0.25710368156433105, accuracy: 0.92919921875\n",
      "Epoch: 159, costo: 0.23657982051372528, accuracy: 0.93408203125\n",
      "Epoch: 160, costo: 0.2259361445903778, accuracy: 0.933837890625\n",
      "Epoch: 161, costo: 0.21901270747184753, accuracy: 0.936767578125\n",
      "Epoch: 162, costo: 0.27036169171333313, accuracy: 0.932861328125\n",
      "Epoch: 163, costo: 0.27743327617645264, accuracy: 0.931884765625\n",
      "Epoch: 164, costo: 0.22959603369235992, accuracy: 0.9365234375\n",
      "Epoch: 165, costo: 0.2516186833381653, accuracy: 0.93408203125\n",
      "Epoch: 166, costo: 0.2562660574913025, accuracy: 0.93994140625\n",
      "Epoch: 167, costo: 0.21914586424827576, accuracy: 0.93017578125\n",
      "Epoch: 168, costo: 0.20472900569438934, accuracy: 0.936767578125\n",
      "Epoch: 169, costo: 0.24376057088375092, accuracy: 0.93701171875\n",
      "Epoch: 170, costo: 0.2112448513507843, accuracy: 0.9375\n",
      "Epoch: 171, costo: 0.22185848653316498, accuracy: 0.942138671875\n",
      "Epoch: 172, costo: 0.22567704319953918, accuracy: 0.93994140625\n",
      "Epoch: 173, costo: 0.2063247412443161, accuracy: 0.93896484375\n",
      "Epoch: 174, costo: 0.20807315409183502, accuracy: 0.93701171875\n",
      "Epoch: 175, costo: 0.2526658773422241, accuracy: 0.940185546875\n",
      "Epoch: 176, costo: 0.29081255197525024, accuracy: 0.940673828125\n",
      "Epoch: 177, costo: 0.20917721092700958, accuracy: 0.93701171875\n",
      "Epoch: 178, costo: 0.2577488422393799, accuracy: 0.93896484375\n",
      "Epoch: 179, costo: 0.23788484930992126, accuracy: 0.938720703125\n",
      "Epoch: 180, costo: 0.2511707842350006, accuracy: 0.94140625\n",
      "Epoch: 181, costo: 0.22622907161712646, accuracy: 0.9404296875\n",
      "Epoch: 182, costo: 0.23227940499782562, accuracy: 0.941162109375\n",
      "Epoch: 183, costo: 0.21797321736812592, accuracy: 0.93896484375\n",
      "Epoch: 184, costo: 0.19884367287158966, accuracy: 0.939697265625\n",
      "Epoch: 185, costo: 0.24497246742248535, accuracy: 0.937255859375\n",
      "Epoch: 186, costo: 0.1863778680562973, accuracy: 0.94384765625\n",
      "Epoch: 187, costo: 0.21783176064491272, accuracy: 0.944091796875\n",
      "Epoch: 188, costo: 0.2250428944826126, accuracy: 0.942138671875\n",
      "Epoch: 189, costo: 0.24079495668411255, accuracy: 0.9375\n",
      "Epoch: 190, costo: 0.20749719440937042, accuracy: 0.945068359375\n",
      "Epoch: 191, costo: 0.23036034405231476, accuracy: 0.943359375\n",
      "Epoch: 192, costo: 0.21495507657527924, accuracy: 0.9423828125\n",
      "Epoch: 193, costo: 0.1982291042804718, accuracy: 0.939697265625\n",
      "Epoch: 194, costo: 0.20881181955337524, accuracy: 0.9453125\n",
      "Epoch: 195, costo: 0.21029533445835114, accuracy: 0.94287109375\n",
      "Epoch: 196, costo: 0.2196730375289917, accuracy: 0.94775390625\n",
      "Epoch: 197, costo: 0.21318547427654266, accuracy: 0.94921875\n",
      "Epoch: 198, costo: 0.19109266996383667, accuracy: 0.941650390625\n",
      "Epoch: 199, costo: 0.17832767963409424, accuracy: 0.948486328125\n",
      "Epoch: 200, costo: 0.16126921772956848, accuracy: 0.942138671875\n",
      "Epoch: 201, costo: 0.23047305643558502, accuracy: 0.9482421875\n",
      "Epoch: 202, costo: 0.22912566363811493, accuracy: 0.941650390625\n",
      "Epoch: 203, costo: 0.20141959190368652, accuracy: 0.943359375\n",
      "Epoch: 204, costo: 0.2077217400074005, accuracy: 0.94580078125\n",
      "Epoch: 205, costo: 0.2166922241449356, accuracy: 0.947998046875\n",
      "Epoch: 206, costo: 0.1945764571428299, accuracy: 0.944091796875\n",
      "Epoch: 207, costo: 0.18776801228523254, accuracy: 0.943115234375\n",
      "Epoch: 208, costo: 0.19417418539524078, accuracy: 0.9462890625\n",
      "Epoch: 209, costo: 0.17872123420238495, accuracy: 0.943115234375\n",
      "Epoch: 210, costo: 0.23339970409870148, accuracy: 0.9482421875\n",
      "Epoch: 211, costo: 0.16380412876605988, accuracy: 0.944091796875\n",
      "Epoch: 212, costo: 0.1885843575000763, accuracy: 0.947265625\n",
      "Epoch: 213, costo: 0.18157215416431427, accuracy: 0.94384765625\n",
      "Epoch: 214, costo: 0.19666284322738647, accuracy: 0.942626953125\n",
      "Epoch: 215, costo: 0.2153930813074112, accuracy: 0.948974609375\n",
      "Epoch: 216, costo: 0.18426452577114105, accuracy: 0.943115234375\n",
      "Epoch: 217, costo: 0.24230895936489105, accuracy: 0.942626953125\n",
      "Epoch: 218, costo: 0.1806749701499939, accuracy: 0.952392578125\n"
     ]
    }
   ],
   "source": [
    "#Instanciar modelo\n",
    "hidden1 = 1000 \n",
    "hidden = 1000\n",
    "lr = 1e-2\n",
    "epochs = 100\n",
    "mb_size = 4096\n",
    "model1 = nn.Sequential(nn.Linear(in_features=784, out_features=hidden1), nn.ReLU(),\n",
    "                       nn.Linear(in_features=hidden1, out_features=hidden), nn.ReLU(),\n",
    "                       nn.Linear(in_features=hidden, out_features=10))\n",
    "optimiser = torch.optim.SGD(model1.parameters(), lr=lr)\n",
    "\n",
    "train(model1, optimiser, mb_size)"
   ]
  },
  {
   "cell_type": "markdown",
   "metadata": {},
   "source": [
    "### SGD con Momentum"
   ]
  },
  {
   "cell_type": "code",
   "execution_count": 21,
   "metadata": {},
   "outputs": [
    {
     "name": "stdout",
     "output_type": "stream",
     "text": [
      "Epoch: 1, costo: 1.953113317489624, accuracy: 0.6845703125\n",
      "Epoch: 2, costo: 1.165447473526001, accuracy: 0.793212890625\n",
      "Epoch: 3, costo: 0.5796141028404236, accuracy: 0.856689453125\n",
      "Epoch: 4, costo: 0.48198145627975464, accuracy: 0.881103515625\n",
      "Epoch: 5, costo: 0.3740842938423157, accuracy: 0.89111328125\n",
      "Epoch: 6, costo: 0.34306246042251587, accuracy: 0.9033203125\n",
      "Epoch: 7, costo: 0.31623920798301697, accuracy: 0.90625\n",
      "Epoch: 8, costo: 0.33210045099258423, accuracy: 0.913818359375\n",
      "Epoch: 9, costo: 0.31997767090797424, accuracy: 0.918701171875\n",
      "Epoch: 10, costo: 0.31854522228240967, accuracy: 0.91650390625\n",
      "Epoch: 11, costo: 0.30447497963905334, accuracy: 0.9267578125\n",
      "Epoch: 12, costo: 0.3108142018318176, accuracy: 0.927734375\n",
      "Epoch: 13, costo: 0.29545527696609497, accuracy: 0.929931640625\n",
      "Epoch: 14, costo: 0.29907387495040894, accuracy: 0.931396484375\n",
      "Epoch: 15, costo: 0.297604501247406, accuracy: 0.929443359375\n",
      "Epoch: 16, costo: 0.2387734204530716, accuracy: 0.930908203125\n",
      "Epoch: 17, costo: 0.2332531064748764, accuracy: 0.9326171875\n",
      "Epoch: 18, costo: 0.26449742913246155, accuracy: 0.9345703125\n",
      "Epoch: 19, costo: 0.2504451274871826, accuracy: 0.939697265625\n",
      "Epoch: 20, costo: 0.23693741858005524, accuracy: 0.939453125\n",
      "Epoch: 21, costo: 0.18894192576408386, accuracy: 0.937744140625\n",
      "Epoch: 22, costo: 0.1950635015964508, accuracy: 0.94287109375\n",
      "Epoch: 23, costo: 0.2094503939151764, accuracy: 0.9453125\n",
      "Epoch: 24, costo: 0.17852462828159332, accuracy: 0.950927734375\n"
     ]
    }
   ],
   "source": [
    "hidden1 = 1000 \n",
    "hidden = 1000\n",
    "lr = 1e-2\n",
    "epochs = 100\n",
    "mb_size = 4096\n",
    "model1 = nn.Sequential(nn.Linear(in_features=784, out_features=hidden1), nn.ReLU(),\n",
    "                       nn.Linear(in_features=hidden1, out_features=hidden), nn.ReLU(),\n",
    "                       nn.Linear(in_features=hidden, out_features=10))\n",
    "optimiser = torch.optim.SGD(model1.parameters(), lr=lr, momentum=0.9)\n",
    "\n",
    "train(model1, optimiser, mb_size)"
   ]
  },
  {
   "cell_type": "code",
   "execution_count": null,
   "metadata": {},
   "outputs": [],
   "source": []
  },
  {
   "cell_type": "markdown",
   "metadata": {},
   "source": [
    "### RMSProp"
   ]
  },
  {
   "cell_type": "code",
   "execution_count": 22,
   "metadata": {},
   "outputs": [
    {
     "name": "stdout",
     "output_type": "stream",
     "text": [
      "Epoch: 1, costo: 0.6433298587799072, accuracy: 0.790283203125\n",
      "Epoch: 2, costo: 0.434357225894928, accuracy: 0.851318359375\n",
      "Epoch: 3, costo: 0.24605853855609894, accuracy: 0.92529296875\n",
      "Epoch: 4, costo: 0.19781841337680817, accuracy: 0.9091796875\n",
      "Epoch: 5, costo: 0.21203777194023132, accuracy: 0.941162109375\n",
      "Epoch: 6, costo: 1.5524362325668335, accuracy: 0.72607421875\n",
      "Epoch: 7, costo: 0.15109224617481232, accuracy: 0.948486328125\n",
      "Epoch: 8, costo: 1.020281434059143, accuracy: 0.74365234375\n",
      "Epoch: 9, costo: 0.15390509366989136, accuracy: 0.955810546875\n"
     ]
    }
   ],
   "source": [
    "hidden1 = 1000 \n",
    "hidden = 1000\n",
    "lr = 1e-2\n",
    "epochs = 100\n",
    "mb_size = 4096\n",
    "model1 = nn.Sequential(nn.Linear(in_features=784, out_features=hidden1), nn.ReLU(),\n",
    "                       nn.Linear(in_features=hidden1, out_features=hidden), nn.ReLU(),\n",
    "                       nn.Linear(in_features=hidden, out_features=10))\n",
    "optimiser = torch.optim.RMSprop(model1.parameters(), lr=lr, alpha=0.9)\n",
    "\n",
    "train(model1, optimiser, mb_size)"
   ]
  },
  {
   "cell_type": "code",
   "execution_count": null,
   "metadata": {},
   "outputs": [],
   "source": []
  },
  {
   "cell_type": "markdown",
   "metadata": {},
   "source": [
    "### Adam"
   ]
  },
  {
   "cell_type": "code",
   "execution_count": 23,
   "metadata": {},
   "outputs": [
    {
     "name": "stdout",
     "output_type": "stream",
     "text": [
      "Epoch: 1, costo: 0.5649116635322571, accuracy: 0.850830078125\n",
      "Epoch: 2, costo: 0.27123522758483887, accuracy: 0.93603515625\n",
      "Epoch: 3, costo: 0.17298048734664917, accuracy: 0.953369140625\n"
     ]
    }
   ],
   "source": [
    "hidden1 = 1000 \n",
    "hidden = 1000\n",
    "lr = 1e-2\n",
    "epochs = 100\n",
    "mb_size = 4096\n",
    "model1 = nn.Sequential(nn.Linear(in_features=784, out_features=hidden1), nn.ReLU(),\n",
    "                       nn.Linear(in_features=hidden1, out_features=hidden), nn.ReLU(),\n",
    "                       nn.Linear(in_features=hidden, out_features=10))\n",
    "optimiser = torch.optim.Adam(model1.parameters(), lr=lr, betas=(0.9, 0.999))\n",
    "\n",
    "train(model1, optimiser, mb_size)"
   ]
  },
  {
   "cell_type": "code",
   "execution_count": null,
   "metadata": {},
   "outputs": [],
   "source": []
  },
  {
   "cell_type": "code",
   "execution_count": null,
   "metadata": {},
   "outputs": [],
   "source": []
  },
  {
   "cell_type": "code",
   "execution_count": null,
   "metadata": {},
   "outputs": [],
   "source": []
  },
  {
   "cell_type": "code",
   "execution_count": null,
   "metadata": {},
   "outputs": [],
   "source": []
  },
  {
   "cell_type": "code",
   "execution_count": null,
   "metadata": {},
   "outputs": [],
   "source": []
  },
  {
   "cell_type": "code",
   "execution_count": null,
   "metadata": {},
   "outputs": [],
   "source": []
  },
  {
   "cell_type": "code",
   "execution_count": null,
   "metadata": {},
   "outputs": [],
   "source": []
  }
 ],
 "metadata": {
  "kernelspec": {
   "display_name": "Python 3",
   "language": "python",
   "name": "python3"
  },
  "language_info": {
   "codemirror_mode": {
    "name": "ipython",
    "version": 3
   },
   "file_extension": ".py",
   "mimetype": "text/x-python",
   "name": "python",
   "nbconvert_exporter": "python",
   "pygments_lexer": "ipython3",
   "version": "3.8.3"
  },
  "varInspector": {
   "cols": {
    "lenName": 16,
    "lenType": 16,
    "lenVar": 40
   },
   "kernels_config": {
    "python": {
     "delete_cmd_postfix": "",
     "delete_cmd_prefix": "del ",
     "library": "var_list.py",
     "varRefreshCmd": "print(var_dic_list())"
    },
    "r": {
     "delete_cmd_postfix": ") ",
     "delete_cmd_prefix": "rm(",
     "library": "var_list.r",
     "varRefreshCmd": "cat(var_dic_list()) "
    }
   },
   "types_to_exclude": [
    "module",
    "function",
    "builtin_function_or_method",
    "instance",
    "_Feature"
   ],
   "window_display": false
  }
 },
 "nbformat": 4,
 "nbformat_minor": 4
}
