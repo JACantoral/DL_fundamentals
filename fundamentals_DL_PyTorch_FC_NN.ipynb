{
 "cells": [
  {
   "cell_type": "markdown",
   "metadata": {},
   "source": [
    "# PyTorch"
   ]
  },
  {
   "cell_type": "markdown",
   "metadata": {},
   "source": [
    "## Importar librerías"
   ]
  },
  {
   "cell_type": "code",
   "execution_count": 1,
   "metadata": {},
   "outputs": [],
   "source": [
    "import numpy as np\n",
    "import matplotlib.pyplot as plt\n",
    "\n",
    "# PyTorch \n",
    "import torch\n",
    "import torch.nn as nn\n",
    "import torch.nn.functional as F"
   ]
  },
  {
   "cell_type": "markdown",
   "metadata": {},
   "source": [
    "## Importar imágenes "
   ]
  },
  {
   "cell_type": "code",
   "execution_count": 2,
   "metadata": {},
   "outputs": [],
   "source": [
    "from get_images import get_images"
   ]
  },
  {
   "cell_type": "code",
   "execution_count": 3,
   "metadata": {},
   "outputs": [],
   "source": [
    "# MNIST path\n",
    "mnist_path = './mnist_raw/'\n",
    "x_train_num, y_train_num, x_test_num, y_test_num = get_images(mnist_path)\n",
    "\n",
    "x_train = x_train_num[:50000].reshape(50000, -1).astype(np.float32)\n",
    "y_train = y_train_num[:50000].reshape(50000, 1)\n",
    "\n",
    "x_val = x_train_num[50000:].reshape(10000, -1).astype(np.float)\n",
    "y_val = y_train_num[50000:].reshape(10000, 1)\n",
    "\n",
    "x_test = x_test_num.copy().reshape(10000, -1).astype(np.float)\n",
    "y_test = y_test_num.copy().reshape(10000, 1)"
   ]
  },
  {
   "cell_type": "markdown",
   "metadata": {},
   "source": [
    "## Normalizar imágenes"
   ]
  },
  {
   "cell_type": "code",
   "execution_count": 4,
   "metadata": {},
   "outputs": [],
   "source": [
    "def normalise(x_mean, x_std, x_data):\n",
    "    return (x_data - x_mean) / x_std"
   ]
  },
  {
   "cell_type": "code",
   "execution_count": 5,
   "metadata": {},
   "outputs": [],
   "source": [
    "x_mean = x_train.mean()\n",
    "x_std = x_train.std()\n",
    "\n",
    "x_train = normalise(x_mean, x_std, x_train)\n",
    "x_val = normalise(x_mean, x_std, x_val)\n",
    "x_test = normalise(x_mean, x_std, x_test)"
   ]
  },
  {
   "cell_type": "code",
   "execution_count": 6,
   "metadata": {},
   "outputs": [
    {
     "data": {
      "text/plain": [
       "(-3.1638146e-07, 0.99999934)"
      ]
     },
     "execution_count": 6,
     "metadata": {},
     "output_type": "execute_result"
    }
   ],
   "source": [
    "x_train.mean(), x_train.std()"
   ]
  },
  {
   "cell_type": "markdown",
   "metadata": {},
   "source": [
    "## Mostrar imágenes "
   ]
  },
  {
   "cell_type": "code",
   "execution_count": 7,
   "metadata": {},
   "outputs": [
    {
     "data": {
      "text/plain": [
       "(10000, 784)"
      ]
     },
     "execution_count": 7,
     "metadata": {},
     "output_type": "execute_result"
    }
   ],
   "source": [
    "x_test.shape"
   ]
  },
  {
   "cell_type": "code",
   "execution_count": 8,
   "metadata": {},
   "outputs": [
    {
     "data": {
      "text/plain": [
       "(50000, 1)"
      ]
     },
     "execution_count": 8,
     "metadata": {},
     "output_type": "execute_result"
    }
   ],
   "source": [
    "y_train.shape"
   ]
  },
  {
   "cell_type": "code",
   "execution_count": 9,
   "metadata": {},
   "outputs": [],
   "source": [
    "def plot_number(image):\n",
    "    plt.figure(figsize=(5,5))\n",
    "    plt.imshow(image.squeeze(), cmap=plt.get_cmap('gray'))\n",
    "    plt.axis('off')\n",
    "    plt.show()"
   ]
  },
  {
   "cell_type": "code",
   "execution_count": 10,
   "metadata": {},
   "outputs": [
    {
     "name": "stdout",
     "output_type": "stream",
     "text": [
      "La imagen muestreada representa un: 1\n"
     ]
    },
    {
     "data": {
      "image/png": "[encoded data removed]",
      "text/plain": [
       "<Figure size 360x360 with 1 Axes>"
      ]
     },
     "metadata": {
      "needs_background": "light"
     },
     "output_type": "display_data"
    }
   ],
   "source": [
    "rnd_idx = np.random.randint(len(y_test))\n",
    "print(f'La imagen muestreada representa un: {y_test[rnd_idx, 0]}')\n",
    "plot_number(x_test_num[rnd_idx])"
   ]
  },
  {
   "cell_type": "markdown",
   "metadata": {},
   "source": [
    "## Crear minibatches "
   ]
  },
  {
   "cell_type": "code",
   "execution_count": 11,
   "metadata": {},
   "outputs": [],
   "source": [
    "def create_minibatches(x, y, mb_size, shuffle = True):\n",
    "    '''\n",
    "    x  #muestras, 784\n",
    "    y #muestras, 1\n",
    "    '''\n",
    "    assert x.shape[0] == y.shape[0], 'Error en cantidad de muestras'\n",
    "    total_data = x.shape[0]\n",
    "    if shuffle: \n",
    "        idxs = np.arange(total_data)\n",
    "        np.random.shuffle(idxs)\n",
    "        x = x[idxs]\n",
    "        y = y[idxs]  \n",
    "    return ((x[i:i+mb_size], y[i:i+mb_size]) for i in range(0, total_data, mb_size))"
   ]
  },
  {
   "cell_type": "markdown",
   "metadata": {},
   "source": [
    "## Ahora sí! PyTorch"
   ]
  },
  {
   "cell_type": "markdown",
   "metadata": {},
   "source": [
    "## Convertir Numpy array a PyTorch "
   ]
  },
  {
   "cell_type": "code",
   "execution_count": 12,
   "metadata": {},
   "outputs": [],
   "source": [
    "x_train_tensor = torch.tensor(x_train.copy())\n",
    "y_train_tensor = torch.tensor(y_train.copy())\n",
    "\n",
    "x_val_tensor = torch.tensor(x_val.copy())\n",
    "y_val_tensor = torch.tensor(y_val.copy())\n",
    "\n",
    "x_test_tensor = torch.tensor(x_test.copy())\n",
    "y_test_tensor = torch.tensor(y_test.copy())"
   ]
  },
  {
   "cell_type": "code",
   "execution_count": null,
   "metadata": {},
   "outputs": [],
   "source": []
  },
  {
   "cell_type": "markdown",
   "metadata": {},
   "source": [
    "\n",
    "## Usar GPU de estar disponible"
   ]
  },
  {
   "cell_type": "code",
   "execution_count": 13,
   "metadata": {},
   "outputs": [
    {
     "name": "stdout",
     "output_type": "stream",
     "text": [
      "Estammos usando: cuda\n"
     ]
    }
   ],
   "source": [
    "if torch.cuda.is_available():\n",
    "    device = torch.device('cuda')\n",
    "else:\n",
    "    device = torch.device('cpu')\n",
    "print(f'Estammos usando: {device}')"
   ]
  },
  {
   "cell_type": "markdown",
   "metadata": {},
   "source": [
    "## Compute accuracy "
   ]
  },
  {
   "cell_type": "code",
   "execution_count": 17,
   "metadata": {},
   "outputs": [],
   "source": [
    "def accuracy(model, x, y, mb_size):\n",
    "    num_correct = 0\n",
    "    num_total = 0\n",
    "    model.eval()\n",
    "    model = model.to(device=device)\n",
    "    with torch.no_grad():\n",
    "        for (xi, yi) in create_minibatches(x, y, mb_size):\n",
    "            xi = xi.to(device=device, dtype = torch.float32)\n",
    "            yi = yi.to(device=device, dtype = torch.long)\n",
    "            scores = model(xi) # mb_size, 10\n",
    "            _, pred = scores.max(dim=1) #pred shape (mb_size )\n",
    "            num_correct += (pred == yi.squeeze()).sum() # pred shape (mb_size), yi shape (mb_size, 1)\n",
    "            num_total += pred.size(0)\n",
    "\n",
    "            return float(num_correct)/num_total     \n",
    "            "
   ]
  },
  {
   "cell_type": "markdown",
   "metadata": {},
   "source": [
    "## Loop de entrenamiento"
   ]
  },
  {
   "cell_type": "code",
   "execution_count": 23,
   "metadata": {},
   "outputs": [],
   "source": [
    "def train(model, optimiser, mb_size, epochs=100):\n",
    "    model = model.to(device=device)\n",
    "    for epoch in range(epochs):\n",
    "        for (xi, yi) in create_minibatches(x_train_tensor, y_train_tensor, mb_size):\n",
    "            model.train()\n",
    "            xi = xi.to(device=device, dtype=torch.float32)\n",
    "            yi = yi.to(device=device, dtype=torch.long)\n",
    "            scores = model(xi)\n",
    "            # funcion cost\n",
    "            cost = F.cross_entropy(input= scores, target=yi.squeeze())\n",
    "            optimiser.zero_grad()\n",
    "            cost.backward()\n",
    "            optimiser.step()\n",
    "            \n",
    "        print(f'Epoch: {epoch}, costo: {cost.item()}, accuracy: {accuracy(model, x_val_tensor, y_val_tensor, mb_size)}')\n",
    "    "
   ]
  },
  {
   "cell_type": "markdown",
   "metadata": {},
   "source": [
    "## Modelo usando Sequential"
   ]
  },
  {
   "cell_type": "code",
   "execution_count": 31,
   "metadata": {
    "scrolled": true
   },
   "outputs": [
    {
     "name": "stdout",
     "output_type": "stream",
     "text": [
      "Epoch: 0, costo: 1.8872113227844238, accuracy: 0.748291015625\n",
      "Epoch: 1, costo: 1.2564311027526855, accuracy: 0.799560546875\n",
      "Epoch: 2, costo: 0.8482204079627991, accuracy: 0.849609375\n",
      "Epoch: 3, costo: 0.6459829807281494, accuracy: 0.866455078125\n",
      "Epoch: 4, costo: 0.5570681095123291, accuracy: 0.880615234375\n",
      "Epoch: 5, costo: 0.47360876202583313, accuracy: 0.889892578125\n",
      "Epoch: 6, costo: 0.4567626714706421, accuracy: 0.899169921875\n",
      "Epoch: 7, costo: 0.4052569568157196, accuracy: 0.903076171875\n",
      "Epoch: 8, costo: 0.43109753727912903, accuracy: 0.908447265625\n",
      "Epoch: 9, costo: 0.39147621393203735, accuracy: 0.8955078125\n",
      "Epoch: 10, costo: 0.3300645649433136, accuracy: 0.909912109375\n",
      "Epoch: 11, costo: 0.3304167091846466, accuracy: 0.904541015625\n",
      "Epoch: 12, costo: 0.33912497758865356, accuracy: 0.911865234375\n",
      "Epoch: 13, costo: 0.3583987355232239, accuracy: 0.912109375\n",
      "Epoch: 14, costo: 0.2944585084915161, accuracy: 0.912353515625\n",
      "Epoch: 15, costo: 0.2834382951259613, accuracy: 0.912109375\n",
      "Epoch: 16, costo: 0.3602854609489441, accuracy: 0.914794921875\n",
      "Epoch: 17, costo: 0.24611236155033112, accuracy: 0.919921875\n",
      "Epoch: 18, costo: 0.32672494649887085, accuracy: 0.924072265625\n",
      "Epoch: 19, costo: 0.33461183309555054, accuracy: 0.916015625\n",
      "Epoch: 20, costo: 0.2843116819858551, accuracy: 0.921630859375\n",
      "Epoch: 21, costo: 0.26163533329963684, accuracy: 0.92626953125\n",
      "Epoch: 22, costo: 0.27907949686050415, accuracy: 0.92431640625\n",
      "Epoch: 23, costo: 0.26847949624061584, accuracy: 0.92919921875\n",
      "Epoch: 24, costo: 0.24706579744815826, accuracy: 0.93017578125\n",
      "Epoch: 25, costo: 0.2623908221721649, accuracy: 0.927001953125\n",
      "Epoch: 26, costo: 0.260051965713501, accuracy: 0.93359375\n",
      "Epoch: 27, costo: 0.23660364747047424, accuracy: 0.93017578125\n",
      "Epoch: 28, costo: 0.27537620067596436, accuracy: 0.935791015625\n",
      "Epoch: 29, costo: 0.22263233363628387, accuracy: 0.935546875\n",
      "Epoch: 30, costo: 0.24674643576145172, accuracy: 0.933837890625\n",
      "Epoch: 31, costo: 0.21583333611488342, accuracy: 0.941162109375\n",
      "Epoch: 32, costo: 0.20824597775936127, accuracy: 0.940673828125\n",
      "Epoch: 33, costo: 0.2067791074514389, accuracy: 0.931640625\n",
      "Epoch: 34, costo: 0.18846963346004486, accuracy: 0.93505859375\n",
      "Epoch: 35, costo: 0.20877481997013092, accuracy: 0.943603515625\n",
      "Epoch: 36, costo: 0.21185599267482758, accuracy: 0.942626953125\n",
      "Epoch: 37, costo: 0.20824719965457916, accuracy: 0.9365234375\n",
      "Epoch: 38, costo: 0.24086247384548187, accuracy: 0.939208984375\n",
      "Epoch: 39, costo: 0.2003917545080185, accuracy: 0.9443359375\n",
      "Epoch: 40, costo: 0.18219153583049774, accuracy: 0.9453125\n",
      "Epoch: 41, costo: 0.19611899554729462, accuracy: 0.94677734375\n",
      "Epoch: 42, costo: 0.20335562527179718, accuracy: 0.944091796875\n",
      "Epoch: 43, costo: 0.2138298898935318, accuracy: 0.943115234375\n",
      "Epoch: 44, costo: 0.18047110736370087, accuracy: 0.947998046875\n",
      "Epoch: 45, costo: 0.1824675351381302, accuracy: 0.947021484375\n",
      "Epoch: 46, costo: 0.207311749458313, accuracy: 0.950439453125\n",
      "Epoch: 47, costo: 0.17845779657363892, accuracy: 0.9521484375\n",
      "Epoch: 48, costo: 0.1739342212677002, accuracy: 0.948486328125\n",
      "Epoch: 49, costo: 0.17337021231651306, accuracy: 0.95068359375\n",
      "Epoch: 50, costo: 0.19221854209899902, accuracy: 0.9443359375\n",
      "Epoch: 51, costo: 0.19790977239608765, accuracy: 0.948486328125\n",
      "Epoch: 52, costo: 0.15393543243408203, accuracy: 0.956298828125\n",
      "Epoch: 53, costo: 0.1706903874874115, accuracy: 0.94677734375\n",
      "Epoch: 54, costo: 0.19588026404380798, accuracy: 0.953857421875\n",
      "Epoch: 55, costo: 0.19295361638069153, accuracy: 0.95166015625\n",
      "Epoch: 56, costo: 0.16475246846675873, accuracy: 0.952880859375\n",
      "Epoch: 57, costo: 0.14835822582244873, accuracy: 0.954833984375\n",
      "Epoch: 58, costo: 0.14343489706516266, accuracy: 0.9609375\n",
      "Epoch: 59, costo: 0.1697598099708557, accuracy: 0.955810546875\n",
      "Epoch: 60, costo: 0.14616864919662476, accuracy: 0.955078125\n",
      "Epoch: 61, costo: 0.1927143782377243, accuracy: 0.9619140625\n",
      "Epoch: 62, costo: 0.1642322540283203, accuracy: 0.956298828125\n",
      "Epoch: 63, costo: 0.16902604699134827, accuracy: 0.957763671875\n",
      "Epoch: 64, costo: 0.1551883965730667, accuracy: 0.953857421875\n",
      "Epoch: 65, costo: 0.1556081473827362, accuracy: 0.9609375\n",
      "Epoch: 66, costo: 0.17477232217788696, accuracy: 0.959228515625\n",
      "Epoch: 67, costo: 0.15902075171470642, accuracy: 0.955810546875\n",
      "Epoch: 68, costo: 0.12831556797027588, accuracy: 0.958740234375\n",
      "Epoch: 69, costo: 0.1550322324037552, accuracy: 0.961181640625\n",
      "Epoch: 70, costo: 0.13987500965595245, accuracy: 0.964111328125\n",
      "Epoch: 71, costo: 0.11874060332775116, accuracy: 0.963134765625\n",
      "Epoch: 72, costo: 0.14800862967967987, accuracy: 0.962646484375\n",
      "Epoch: 73, costo: 0.1286693960428238, accuracy: 0.9599609375\n",
      "Epoch: 74, costo: 0.1437050849199295, accuracy: 0.961181640625\n",
      "Epoch: 75, costo: 0.1213977038860321, accuracy: 0.95849609375\n",
      "Epoch: 76, costo: 0.16133266687393188, accuracy: 0.960693359375\n",
      "Epoch: 77, costo: 0.13467910885810852, accuracy: 0.962158203125\n",
      "Epoch: 78, costo: 0.1399233490228653, accuracy: 0.96142578125\n",
      "Epoch: 79, costo: 0.14290156960487366, accuracy: 0.9609375\n",
      "Epoch: 80, costo: 0.13526198267936707, accuracy: 0.967529296875\n",
      "Epoch: 81, costo: 0.12732313573360443, accuracy: 0.964599609375\n",
      "Epoch: 82, costo: 0.11884012073278427, accuracy: 0.960693359375\n",
      "Epoch: 83, costo: 0.15101993083953857, accuracy: 0.964111328125\n",
      "Epoch: 84, costo: 0.13354507088661194, accuracy: 0.966064453125\n",
      "Epoch: 85, costo: 0.1442325860261917, accuracy: 0.96337890625\n",
      "Epoch: 86, costo: 0.1082398071885109, accuracy: 0.965087890625\n",
      "Epoch: 87, costo: 0.1481022834777832, accuracy: 0.966796875\n",
      "Epoch: 88, costo: 0.0972115695476532, accuracy: 0.96728515625\n",
      "Epoch: 89, costo: 0.1390572190284729, accuracy: 0.966552734375\n",
      "Epoch: 90, costo: 0.09465771913528442, accuracy: 0.9658203125\n",
      "Epoch: 91, costo: 0.1209380030632019, accuracy: 0.96630859375\n",
      "Epoch: 92, costo: 0.1256929188966751, accuracy: 0.962158203125\n",
      "Epoch: 93, costo: 0.12592288851737976, accuracy: 0.967529296875\n",
      "Epoch: 94, costo: 0.11773760616779327, accuracy: 0.96875\n",
      "Epoch: 95, costo: 0.10331612080335617, accuracy: 0.96142578125\n",
      "Epoch: 96, costo: 0.12150856107473373, accuracy: 0.966796875\n",
      "Epoch: 97, costo: 0.1104331985116005, accuracy: 0.966796875\n",
      "Epoch: 98, costo: 0.13122691214084625, accuracy: 0.966796875\n",
      "Epoch: 99, costo: 0.09219212830066681, accuracy: 0.965576171875\n"
     ]
    }
   ],
   "source": [
    "#Instanciar modelo\n",
    "hidden1 = 1000 \n",
    "hidden = 1000\n",
    "lr = 5e-2\n",
    "epochs = 100\n",
    "mb_size = 4096\n",
    "model1 = nn.Sequential(nn.Linear(in_features=784, out_features=hidden1), nn.ReLU(),\n",
    "                       nn.Linear(in_features=hidden1, out_features=hidden), nn.ReLU(),\n",
    "                       nn.Linear(in_features=hidden, out_features=10))\n",
    "optimiser = torch.optim.SGD(model1.parameters(), lr=lr)\n",
    "\n",
    "train(model1, optimiser, mb_size, epochs)"
   ]
  },
  {
   "cell_type": "code",
   "execution_count": 32,
   "metadata": {},
   "outputs": [
    {
     "data": {
      "text/plain": [
       "0.959228515625"
      ]
     },
     "execution_count": 32,
     "metadata": {},
     "output_type": "execute_result"
    }
   ],
   "source": [
    "accuracy(model1, x_test_tensor,  y_test_tensor, mb_size)"
   ]
  },
  {
   "cell_type": "code",
   "execution_count": null,
   "metadata": {},
   "outputs": [],
   "source": []
  },
  {
   "cell_type": "code",
   "execution_count": null,
   "metadata": {},
   "outputs": [],
   "source": []
  },
  {
   "cell_type": "code",
   "execution_count": null,
   "metadata": {},
   "outputs": [],
   "source": []
  },
  {
   "cell_type": "code",
   "execution_count": null,
   "metadata": {},
   "outputs": [],
   "source": []
  },
  {
   "cell_type": "code",
   "execution_count": null,
   "metadata": {},
   "outputs": [],
   "source": []
  },
  {
   "cell_type": "code",
   "execution_count": null,
   "metadata": {},
   "outputs": [],
   "source": []
  },
  {
   "cell_type": "code",
   "execution_count": null,
   "metadata": {},
   "outputs": [],
   "source": []
  },
  {
   "cell_type": "code",
   "execution_count": null,
   "metadata": {},
   "outputs": [],
   "source": []
  },
  {
   "cell_type": "code",
   "execution_count": null,
   "metadata": {},
   "outputs": [],
   "source": []
  },
  {
   "cell_type": "code",
   "execution_count": null,
   "metadata": {},
   "outputs": [],
   "source": []
  },
  {
   "cell_type": "code",
   "execution_count": null,
   "metadata": {},
   "outputs": [],
   "source": []
  },
  {
   "cell_type": "code",
   "execution_count": null,
   "metadata": {},
   "outputs": [],
   "source": []
  },
  {
   "cell_type": "code",
   "execution_count": null,
   "metadata": {},
   "outputs": [],
   "source": []
  },
  {
   "cell_type": "code",
   "execution_count": null,
   "metadata": {},
   "outputs": [],
   "source": []
  },
  {
   "cell_type": "code",
   "execution_count": null,
   "metadata": {},
   "outputs": [],
   "source": []
  }
 ],
 "metadata": {
  "kernelspec": {
   "display_name": "Python 3 (ipykernel)",
   "language": "python",
   "name": "python3"
  },
  "language_info": {
   "codemirror_mode": {
    "name": "ipython",
    "version": 3
   },
   "file_extension": ".py",
   "mimetype": "text/x-python",
   "name": "python",
   "nbconvert_exporter": "python",
   "pygments_lexer": "ipython3",
   "version": "3.9.0"
  },
  "toc": {
   "base_numbering": 1,
   "nav_menu": {},
   "number_sections": true,
   "sideBar": true,
   "skip_h1_title": false,
   "title_cell": "Table of Contents",
   "title_sidebar": "Contents",
   "toc_cell": false,
   "toc_position": {},
   "toc_section_display": true,
   "toc_window_display": false
  },
  "varInspector": {
   "cols": {
    "lenName": 16,
    "lenType": 16,
    "lenVar": 40
   },
   "kernels_config": {
    "python": {
     "delete_cmd_postfix": "",
     "delete_cmd_prefix": "del ",
     "library": "var_list.py",
     "varRefreshCmd": "print(var_dic_list())"
    },
    "r": {
     "delete_cmd_postfix": ") ",
     "delete_cmd_prefix": "rm(",
     "library": "var_list.r",
     "varRefreshCmd": "cat(var_dic_list()) "
    }
   },
   "types_to_exclude": [
    "module",
    "function",
    "builtin_function_or_method",
    "instance",
    "_Feature"
   ],
   "window_display": false
  }
 },
 "nbformat": 4,
 "nbformat_minor": 4
}
